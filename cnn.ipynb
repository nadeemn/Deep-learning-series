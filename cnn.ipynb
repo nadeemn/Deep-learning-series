{
 "cells": [
  {
   "cell_type": "code",
   "execution_count": null,
   "metadata": {},
   "outputs": [],
   "source": [
    "!python -m pip install tensorflow"
   ]
  },
  {
   "cell_type": "code",
   "execution_count": null,
   "metadata": {},
   "outputs": [],
   "source": [
    "import os, warnings\n",
    "import matplotlib.pyplot as plt\n",
    "from matplotlib import gridspec\n",
    "\n",
    "import numpy as np\n",
    "import tensorflow as tf\n",
    "from tensorflow import keras\n",
    "from tensorflow.keras import layers\n",
    "from tensorflow.keras.preprocessing import image_dataset_from_directory\n",
    "\n",
    "def set_Seed(seed = 31415):\n",
    "    np.random.seed(seed)\n",
    "    tf.random.set_seed(seed)\n",
    "    os.environ['PYTHONHASHSEED'] = str(seed)\n",
    "    os.environ['TF_DETERMINISTIC_OPS'] = '1'\n",
    "\n",
    "set_Seed(31415)\n",
    "\n",
    "plt.rc('figure', autolayout = True)\n",
    "plt.rc('axes', labelweight = 'bold', labelsize = 'large', titleweight='bold', titlesize=18, titlepad=10)\n",
    "plt.rc('image', cmap='magma')\n",
    "warnings.filterwarnings('ignore')\n",
    "\n",
    "ds_train_ = image_dataset_from_directory('../input/car-or-truck/train', labels='inferred', label_mode='binary',\n",
    "                                        image_size=[128, 128], interpolation='nearest', batch_size=64, shuffle=True)\n",
    "\n",
    "ds_valid_ = image_dataset_from_directory('../input/car-or-truck/valid', labels='inferred', label_mode='binary',\n",
    "                                        image_size=[128, 128], interpolation='nearest', batch_size=64, shuffle=False)\n",
    "\n",
    "def convert_to_float(image, label):\n",
    "    image = tf.image.convert_image_dtype(image, dtype=tf.float32)\n",
    "    return image, label\n",
    "\n",
    "AUTOTUNE = tf.data.experimental.AUTOTUNE\n",
    "\n",
    "ds_train = (ds_train_.map(convert_to_float).cache().prefetch(buffer_size = AUTOTUNE))\n",
    "\n",
    "ds_valid = (ds_valid_.map(convert_to_float).cache().prefetch(buffer_size = AUTOTUNE))\n",
    "\n",
    "pretrained_base = tf.keras.models.load_model('../input/cv-course-models/cv-course-models/vgg16-pretrained-base',)\n",
    "pretrained_base.trainable = False\n",
    "\n",
    "model = keras.Sequential([pretrained_base, layers.Flatten(), layers.Dense(6, activation = 'relu'), layers.Dense(1, activation='sigmoid',)])\n",
    "\n",
    "model.compile(optimize='adam', loss='binary_crossentropy', metrics=['binary_accuracy'],)\n",
    "history = model.fit(ds_train, validation_data = ds_valid, epochs = 30, verbose = 0,)"
   ]
  },
  {
   "cell_type": "code",
   "execution_count": null,
   "metadata": {},
   "outputs": [],
   "source": [
    "import pandas as pd\n",
    "history_frame = pd.DataFrame(history.history)\n",
    "history_frame.loc[:, ['loss', 'val_loss']].plot()\n",
    "history_frame.loc[:, ['binary_accuracy', 'val_binary_accuracy']].plot();"
   ]
  }
 ],
 "metadata": {
  "kernelspec": {
   "display_name": "Python 3",
   "language": "python",
   "name": "python3"
  },
  "language_info": {
   "codemirror_mode": {
    "name": "ipython",
    "version": 3
   },
   "file_extension": ".py",
   "mimetype": "text/x-python",
   "name": "python",
   "nbconvert_exporter": "python",
   "pygments_lexer": "ipython3",
   "version": "3.11.9"
  }
 },
 "nbformat": 4,
 "nbformat_minor": 2
}
