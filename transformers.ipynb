{
  "nbformat": 4,
  "nbformat_minor": 0,
  "metadata": {
    "colab": {
      "provenance": [],
      "authorship_tag": "ABX9TyNNcyLt2bXQc936Nw4DGhtS"
    },
    "kernelspec": {
      "name": "python3",
      "display_name": "Python 3"
    },
    "language_info": {
      "name": "python"
    }
  },
  "cells": [
    {
      "cell_type": "code",
      "execution_count": 1,
      "metadata": {
        "id": "1vcxZslUifuw"
      },
      "outputs": [],
      "source": [
        "import torch\n",
        "import torch.nn as nn\n",
        "import torch.optim as optim\n",
        "import torch.utils.data as data\n",
        "import math\n",
        "import copy"
      ]
    },
    {
      "cell_type": "code",
      "source": [
        "class MultiHeadAttention(nn.Module):\n",
        "  def __init__(self, d_model, num_heads):\n",
        "    super(MultiHeadAttention, self).__init__()\n",
        "    assert d_model % num_heads == 0, \"d_model must be divisible by num_heads\"\n",
        "\n",
        "    self.d_model = d_model\n",
        "    self.num_heads = num_heads\n",
        "    self.d_k = d_model // num_heads\n",
        "\n",
        "    self.W_q = nn.Linear(d_model, d_model)\n",
        "    self.W_k = nn.Linear(d_model, d_model)\n",
        "    self.W_v = nn.Linear(d_model, d_model)\n",
        "    self.W_o = nn.Linear(d_model, d_model)\n",
        "\n",
        "  def scaled_dot_product_attention(self, Q, K, V, mask=None):\n",
        "    att_scores = torch.matmul(Q, K.transpose(-2,-1)) / math.sqrt(self.d_k)\n",
        "    if mask is not None:\n",
        "      att_scores = att_scores.masked_fill(mask == 0, -1e9)\n",
        "    attn_probs = torch.softmax(att_scores, dim=-1)\n",
        "    output = torch.matmul(attn_probs, V)\n",
        "    return output\n",
        "\n",
        "  def split_heads(self, x):\n",
        "    batch_size, seq_length, d_model = x.size()\n",
        "    return x.view(batch_size, seq_length, self.num_heads, self.d_k).transpose(1,2)\n",
        "\n",
        "  def combine_heads(self, x):\n",
        "    batch_size, _, seq_length, d_k = x.size()\n",
        "    return x.transpose(1,2).contiguous().view(batch_size, seq_length, self.d_model)\n",
        "\n",
        "  def forward(self, Q, K, V, mask = None):\n",
        "    Q = self.split_heads(self.W_q(Q))\n",
        "    K = self.split_heads(self.W_k(K))\n",
        "    V = self.split_heads(self.W_v(V))\n",
        "\n",
        "    att_output = self.scaled_dot_product_attention(Q, K, V, mask)\n",
        "    output = self.W_o(self.combine_heads(att_output))\n",
        "    return output"
      ],
      "metadata": {
        "id": "cyUSSP3Tk4Wq"
      },
      "execution_count": 3,
      "outputs": []
    },
    {
      "cell_type": "code",
      "source": [
        "class PositionWiseFeedForward(nn.Module):\n",
        "  def __init__(self, d_model, d_ff):\n",
        "    super(PositionWiseFeedForward, self).__init__()\n",
        "\n",
        "    self.fc1 = nn.Linear(d_model, d_ff)\n",
        "    self.fc2 = nn.Linear(d_ff, d_model)\n",
        "    self.relu = nn.ReLU()\n",
        "\n",
        "  def forward(self, x):\n",
        "    return self.fc2(self.relu(self.fc1(x)))"
      ],
      "metadata": {
        "id": "V09NI5LExGgL"
      },
      "execution_count": 4,
      "outputs": []
    },
    {
      "cell_type": "code",
      "source": [
        "class PositionalEncoding(nn.Module):\n",
        "  def __init__(self, d_model, max_seq_length):\n",
        "    super(PositionalEncoding, self).__init__()\n",
        "\n",
        "    pe = torch.zeros(max_seq_length, d_model)\n",
        "    position = torch.arange(0, max_seq_length, dtype=torch.float).unsqueeze(1)\n",
        "    div_term = torch.exp(torch.arange(0, d_model, 2).float() * -(math.log(10000.0) / d_model))\n",
        "\n",
        "    pe[:, 0::2] = torch.sin(position * div_term)\n",
        "    pe[:, 1::2] = torch.cos(position * div_term)\n",
        "\n",
        "    self.register_buffer('pe', pe.unsqueeze(0))\n",
        "\n",
        "  def forward(self,x):\n",
        "    return x + self.pe[:, :x.size(1)]"
      ],
      "metadata": {
        "id": "n0gymIbYx5TP"
      },
      "execution_count": 5,
      "outputs": []
    },
    {
      "cell_type": "code",
      "source": [
        "class EncoderLayer(nn.Module):\n",
        "  def __init__(self, d_model, num_heads, d_ff, dropout):\n",
        "    super(EncoderLayer, self).__init__()\n",
        "\n",
        "    self.self_attn = MultiHeadAttention(d_model, num_heads)\n",
        "    self.feed_forward = PositionWiseFeedForward(d_model, d_ff)\n",
        "    self.norm1 = nn.LayerNorm(d_model)\n",
        "    self.norm2 = nn.LayerNorm(d_model)\n",
        "    self.dropout = nn.Dropout(dropout)\n",
        "\n",
        "  def forward(self, x, mask):\n",
        "    attn_output = self.self_attn(x, x, x, mask)\n",
        "    x = self.norm1( x + self.dropout(attn_output))\n",
        "    ff_output = self.feed_forward(x)\n",
        "    x = self.norm2(x + self.dropout(ff_output))\n",
        "\n",
        "    return x"
      ],
      "metadata": {
        "id": "mDonG9izzLSA"
      },
      "execution_count": 6,
      "outputs": []
    },
    {
      "cell_type": "code",
      "source": [
        "class DecoderLayer(nn.Module):\n",
        "  def __init__(self, d_model, num_heads, d_ff, dropout):\n",
        "    super(DecoderLayer, self).__init__()\n",
        "\n",
        "    self.self_attn = MultiHeadAttention(d_model, num_heads)\n",
        "    self.cross_attn = MultiHeadAttention(d_model, num_heads)\n",
        "    self.feed_forward = PositionWiseFeedForward(d_model, d_ff)\n",
        "    self.norm1 = nn.LayerNorm(d_model)\n",
        "    self.norm2 = nn.LayerNorm(d_model)\n",
        "    self.norm3 = nn.LayerNorm(d_model)\n",
        "    self.dropout = nn.Dropout(dropout)\n",
        "\n",
        "  def forward(self, x, enc_output, src_mask, tgt_mask):\n",
        "    attn_output = self.self_attn(x, x, x, tgt_mask)\n",
        "    x = self.norm1(x + self.dropout(attn_output))\n",
        "\n",
        "    attn_output = self.cross_attn(x, enc_output, enc_output, src_mask)\n",
        "    x = self.norm2(x + self.dropout(attn_output))\n",
        "\n",
        "    ff_output = self.feed_forward(x)\n",
        "    x = self.norm3(x + self.dropout(ff_output))\n",
        "    return x"
      ],
      "metadata": {
        "id": "tS0OIirV2eXY"
      },
      "execution_count": 8,
      "outputs": []
    },
    {
      "cell_type": "code",
      "source": [
        "class Transformer(nn.Module):\n",
        "  def __init__(self, src_vocab, tgt_vocab, d_model, num_heads, num_layers, d_ff, max_seq_length, dropout):\n",
        "    super(Transformer, self).__init__()\n",
        "\n",
        "    self.encoder_embedding = nn.Embedding(src_vocab, d_model)\n",
        "    self.decoder_embedding = nn.Embedding(tgt_vocab, d_model)\n",
        "    self.positional_encoding = PositionalEncoding(d_model, max_seq_length)\n",
        "\n",
        "    self.encoder_layers = nn.ModuleList([EncoderLayer(d_model, num_heads, d_ff, dropout) for _ in range(num_layers)])\n",
        "    self.decoder_layers = nn.ModuleList([DecoderLayer(d_model, num_heads, d_ff, dropout) for _ in range(num_layers)])\n",
        "\n",
        "    self.fc = nn.Linear(d_model, tgt_vocab)\n",
        "    self.dropout = nn.Dropout(dropout)\n",
        "\n",
        "  def generate_mask(self, src, tgt):\n",
        "    src_mask = (src != 0).unsqueeze(1).unsqueeze(2)\n",
        "    tgt_mask = (tgt != 0).unsqueeze(1).unsqueeze(3)\n",
        "    seq_length = tgt.size(1)\n",
        "    nopeak_mask = (1 - torch.triu(torch.ones(1, seq_length, seq_length), diagonal=1)).bool()\n",
        "    tgt_mask = tgt_mask & nopeak_mask\n",
        "    return src_mask, tgt_mask\n",
        "\n",
        "  def forward(self, src, tgt):\n",
        "    src_mask, tgt_mask = self.generate_mask(src, tgt)\n",
        "    src_embedded = self.dropout(self.positional_encoding(self.encoder_embedding(src)))\n",
        "    tgt_embedded = self.dropout(self.positional_encoding(self.decoder_embedding(tgt)))\n",
        "\n",
        "    enc_output = src_embedded\n",
        "    for enc_layer in self.encoder_layers:\n",
        "        enc_output = enc_layer(enc_output, src_mask)\n",
        "\n",
        "    dec_output = tgt_embedded\n",
        "    for dec_layer in self.decoder_layers:\n",
        "        dec_output = dec_layer(dec_output, enc_output, src_mask, tgt_mask)\n",
        "\n",
        "    output = self.fc(dec_output)\n",
        "    return output\n"
      ],
      "metadata": {
        "id": "ZmGwutOj3jO6"
      },
      "execution_count": 23,
      "outputs": []
    },
    {
      "cell_type": "code",
      "source": [
        "src_vocab_size = 8\n",
        "tgt_vocab_size = 7\n",
        "d_model = 512\n",
        "num_heads = 8\n",
        "num_layers = 6\n",
        "d_ff = 2048\n",
        "max_seq_length = 100\n",
        "dropout = 0.1\n",
        "\n",
        "transformer = Transformer(src_vocab_size, tgt_vocab_size, d_model, num_heads, num_layers, d_ff, max_seq_length, dropout)\n",
        "\n",
        "# Generate random sample data\n",
        "src_data = torch.randint(1, src_vocab_size, (64, max_seq_length))  # (batch_size, seq_length)\n",
        "tgt_data = torch.randint(1, tgt_vocab_size, (64, max_seq_length))  # (batch_size, seq_length)\n",
        "\n",
        "print(src_data)\n",
        "print(tgt_data[:,:-1], tgt_data)"
      ],
      "metadata": {
        "colab": {
          "base_uri": "https://localhost:8080/"
        },
        "id": "pjlAQV3v5o7y",
        "outputId": "d2a92db0-6b9a-48fc-e4cd-6898eebc8997"
      },
      "execution_count": 35,
      "outputs": [
        {
          "output_type": "stream",
          "name": "stdout",
          "text": [
            "tensor([[1, 5, 6,  ..., 6, 6, 1],\n",
            "        [6, 4, 1,  ..., 5, 5, 3],\n",
            "        [6, 2, 2,  ..., 6, 2, 4],\n",
            "        ...,\n",
            "        [3, 4, 7,  ..., 4, 1, 2],\n",
            "        [4, 4, 5,  ..., 7, 3, 4],\n",
            "        [4, 6, 4,  ..., 3, 6, 6]])\n",
            "tensor([[6, 3, 5,  ..., 5, 6, 5],\n",
            "        [2, 4, 6,  ..., 5, 5, 5],\n",
            "        [6, 6, 3,  ..., 3, 3, 1],\n",
            "        ...,\n",
            "        [1, 1, 5,  ..., 5, 3, 5],\n",
            "        [3, 2, 3,  ..., 1, 6, 1],\n",
            "        [2, 5, 6,  ..., 3, 5, 1]]) tensor([[6, 3, 5,  ..., 6, 5, 2],\n",
            "        [2, 4, 6,  ..., 5, 5, 5],\n",
            "        [6, 6, 3,  ..., 3, 1, 3],\n",
            "        ...,\n",
            "        [1, 1, 5,  ..., 3, 5, 5],\n",
            "        [3, 2, 3,  ..., 6, 1, 4],\n",
            "        [2, 5, 6,  ..., 5, 1, 1]])\n"
          ]
        }
      ]
    },
    {
      "cell_type": "code",
      "source": [
        "criterion = nn.CrossEntropyLoss(ignore_index=0)\n",
        "optimizer = optim.Adam(transformer.parameters(), lr=0.0001, betas=(0.9, 0.98), eps=1e-9)\n",
        "\n",
        "transformer.train()\n",
        "\n",
        "for epoch in range(100):\n",
        "    optimizer.zero_grad()\n",
        "    output = transformer(src_data, tgt_data[:, :-1])\n",
        "    loss = criterion(output.contiguous().view(-1, tgt_vocab_size), tgt_data[:, 1:].contiguous().view(-1))\n",
        "    loss.backward()\n",
        "    optimizer.step()\n",
        "    print(f\"Epoch: {epoch+1}, Loss: {loss.item()}\")"
      ],
      "metadata": {
        "colab": {
          "base_uri": "https://localhost:8080/"
        },
        "id": "41vNdS8x5qQI",
        "outputId": "ac49cd87-b546-4fce-cdf0-fce8bfb4f4fc"
      },
      "execution_count": 12,
      "outputs": [
        {
          "output_type": "stream",
          "name": "stdout",
          "text": [
            "Epoch: 1, Loss: 8.687286376953125\n",
            "Epoch: 2, Loss: 8.548818588256836\n",
            "Epoch: 3, Loss: 8.478421211242676\n",
            "Epoch: 4, Loss: 8.415529251098633\n",
            "Epoch: 5, Loss: 8.354681015014648\n",
            "Epoch: 6, Loss: 8.279276847839355\n",
            "Epoch: 7, Loss: 8.202736854553223\n",
            "Epoch: 8, Loss: 8.122802734375\n",
            "Epoch: 9, Loss: 8.038825035095215\n",
            "Epoch: 10, Loss: 7.960371017456055\n",
            "Epoch: 11, Loss: 7.872034549713135\n",
            "Epoch: 12, Loss: 7.7895026206970215\n",
            "Epoch: 13, Loss: 7.704648971557617\n",
            "Epoch: 14, Loss: 7.623815536499023\n",
            "Epoch: 15, Loss: 7.54539155960083\n",
            "Epoch: 16, Loss: 7.4590606689453125\n",
            "Epoch: 17, Loss: 7.376415729522705\n",
            "Epoch: 18, Loss: 7.2908477783203125\n",
            "Epoch: 19, Loss: 7.21025276184082\n",
            "Epoch: 20, Loss: 7.133049011230469\n",
            "Epoch: 21, Loss: 7.052592754364014\n",
            "Epoch: 22, Loss: 6.976838111877441\n",
            "Epoch: 23, Loss: 6.903621673583984\n",
            "Epoch: 24, Loss: 6.836450576782227\n",
            "Epoch: 25, Loss: 6.747838020324707\n",
            "Epoch: 26, Loss: 6.6709699630737305\n",
            "Epoch: 27, Loss: 6.602648735046387\n",
            "Epoch: 28, Loss: 6.5303263664245605\n",
            "Epoch: 29, Loss: 6.457686424255371\n",
            "Epoch: 30, Loss: 6.392719745635986\n",
            "Epoch: 31, Loss: 6.323250770568848\n",
            "Epoch: 32, Loss: 6.260653495788574\n",
            "Epoch: 33, Loss: 6.183764457702637\n",
            "Epoch: 34, Loss: 6.1161980628967285\n",
            "Epoch: 35, Loss: 6.0475568771362305\n",
            "Epoch: 36, Loss: 5.982453346252441\n",
            "Epoch: 37, Loss: 5.924076080322266\n",
            "Epoch: 38, Loss: 5.853204250335693\n",
            "Epoch: 39, Loss: 5.7961883544921875\n",
            "Epoch: 40, Loss: 5.739428997039795\n",
            "Epoch: 41, Loss: 5.67305850982666\n",
            "Epoch: 42, Loss: 5.6114821434021\n",
            "Epoch: 43, Loss: 5.548758029937744\n",
            "Epoch: 44, Loss: 5.489229679107666\n",
            "Epoch: 45, Loss: 5.442754745483398\n",
            "Epoch: 46, Loss: 5.3712334632873535\n",
            "Epoch: 47, Loss: 5.3093390464782715\n",
            "Epoch: 48, Loss: 5.258111476898193\n",
            "Epoch: 49, Loss: 5.201045036315918\n",
            "Epoch: 50, Loss: 5.1365647315979\n",
            "Epoch: 51, Loss: 5.08450174331665\n",
            "Epoch: 52, Loss: 5.029826641082764\n",
            "Epoch: 53, Loss: 4.976991176605225\n",
            "Epoch: 54, Loss: 4.921075820922852\n",
            "Epoch: 55, Loss: 4.870527267456055\n",
            "Epoch: 56, Loss: 4.805838108062744\n",
            "Epoch: 57, Loss: 4.760740756988525\n",
            "Epoch: 58, Loss: 4.70442008972168\n",
            "Epoch: 59, Loss: 4.649063587188721\n",
            "Epoch: 60, Loss: 4.597002029418945\n",
            "Epoch: 61, Loss: 4.5555806159973145\n",
            "Epoch: 62, Loss: 4.501932621002197\n",
            "Epoch: 63, Loss: 4.441112995147705\n",
            "Epoch: 64, Loss: 4.391354560852051\n",
            "Epoch: 65, Loss: 4.333303928375244\n",
            "Epoch: 66, Loss: 4.285835266113281\n",
            "Epoch: 67, Loss: 4.247152328491211\n",
            "Epoch: 68, Loss: 4.1974358558654785\n",
            "Epoch: 69, Loss: 4.147430896759033\n",
            "Epoch: 70, Loss: 4.1042799949646\n",
            "Epoch: 71, Loss: 4.047057151794434\n",
            "Epoch: 72, Loss: 3.998337984085083\n",
            "Epoch: 73, Loss: 3.948718547821045\n",
            "Epoch: 74, Loss: 3.900099039077759\n",
            "Epoch: 75, Loss: 3.848315954208374\n",
            "Epoch: 76, Loss: 3.8030009269714355\n",
            "Epoch: 77, Loss: 3.758143901824951\n",
            "Epoch: 78, Loss: 3.7112107276916504\n",
            "Epoch: 79, Loss: 3.657783031463623\n",
            "Epoch: 80, Loss: 3.6126601696014404\n",
            "Epoch: 81, Loss: 3.5725982189178467\n",
            "Epoch: 82, Loss: 3.524531602859497\n",
            "Epoch: 83, Loss: 3.4726014137268066\n",
            "Epoch: 84, Loss: 3.4327383041381836\n",
            "Epoch: 85, Loss: 3.3860390186309814\n",
            "Epoch: 86, Loss: 3.3375539779663086\n",
            "Epoch: 87, Loss: 3.2964489459991455\n",
            "Epoch: 88, Loss: 3.247136354446411\n",
            "Epoch: 89, Loss: 3.205305814743042\n",
            "Epoch: 90, Loss: 3.160688638687134\n",
            "Epoch: 91, Loss: 3.1180028915405273\n",
            "Epoch: 92, Loss: 3.074096441268921\n",
            "Epoch: 93, Loss: 3.0317530632019043\n",
            "Epoch: 94, Loss: 2.984898090362549\n",
            "Epoch: 95, Loss: 2.941563367843628\n",
            "Epoch: 96, Loss: 2.9012861251831055\n",
            "Epoch: 97, Loss: 2.8525681495666504\n",
            "Epoch: 98, Loss: 2.8088977336883545\n",
            "Epoch: 99, Loss: 2.7661404609680176\n",
            "Epoch: 100, Loss: 2.7248010635375977\n"
          ]
        }
      ]
    },
    {
      "cell_type": "code",
      "source": [
        "english_vocab = {\n",
        "    \"<START>\": 1, \"<END>\": 2, \"I\": 3, \"am\": 4, \"learning\": 5, \"machine\": 6, \"translation\": 7\n",
        "}\n",
        "german_vocab = {\n",
        "    \"<START>\": 1, \"<END>\": 2, \"Ich\": 3, \"lerne\": 4, \"maschinelle\": 5, \"Übersetzung\": 6\n",
        "}\n",
        "\n",
        "# Tokenized sentences\n",
        "english_sentence = [\"I\", \"am\", \"learning\", \"machine\", \"translation\"]\n",
        "german_sentence = [\"Ich\", \"lerne\", \"maschinelle\", \"Übersetzung\"]"
      ],
      "metadata": {
        "id": "YLoe7Ymj5u99"
      },
      "execution_count": 36,
      "outputs": []
    },
    {
      "cell_type": "code",
      "source": [
        "src_data = torch.tensor([english_vocab[word] for word in english_sentence], dtype=torch.long).unsqueeze(0)  # Shape: (1, seq_len)\n",
        "tgt_data = torch.tensor([german_vocab[word] for word in german_sentence], dtype=torch.long).unsqueeze(0)  # Shape: (1, seq_len)\n",
        "\n",
        "print(src_data.shape, tgt_data)"
      ],
      "metadata": {
        "colab": {
          "base_uri": "https://localhost:8080/"
        },
        "id": "aFu122A3weSw",
        "outputId": "fff5a61c-9b72-4615-c40d-6e2cdc966aeb"
      },
      "execution_count": 37,
      "outputs": [
        {
          "output_type": "stream",
          "name": "stdout",
          "text": [
            "torch.Size([1, 5]) tensor([[3, 4, 5, 6]])\n"
          ]
        }
      ]
    },
    {
      "cell_type": "code",
      "source": [
        "transformer = Transformer(src_vocab=8,  # Includes <START>, <END>, and 6 words in the English sentence\n",
        "                          tgt_vocab=7,  # Includes <START>, <END>, and 5 words in the German translation\n",
        "                          d_model=512,\n",
        "                          num_heads=8,\n",
        "                          num_layers=6,\n",
        "                          d_ff=2048,\n",
        "                          max_seq_length=50,\n",
        "                          dropout=0.1)"
      ],
      "metadata": {
        "id": "s4IcbJg4wqsj"
      },
      "execution_count": 38,
      "outputs": []
    },
    {
      "cell_type": "code",
      "source": [
        "def generate_sequence(transformer, src, start_token, end_token, max_length=50):\n",
        "  src_mask, _ = transformer.generate_mask(src, src)\n",
        "\n",
        "  src_embedded = transformer.dropout(transformer.positional_encoding(transformer.encoder_embedding(src)))\n",
        "\n",
        "  enc_output = src_embedded\n",
        "\n",
        "  for enc_layer in transformer.encoder_layers:\n",
        "    enc_output = enc_layer(enc_output, src_mask)\n",
        "\n",
        "  tgt = torch.tensor([[start_token]], device=src.device)\n",
        "\n",
        "  generated_sequence = [start_token]\n",
        "\n",
        "  for _ in range(5):\n",
        "    tgt_embedded = transformer.dropout(transformer.positional_encoding(transformer.decoder_embedding(tgt)))\n",
        "\n",
        "    dec_output = tgt_embedded\n",
        "\n",
        "    for dec_layer in transformer.decoder_layers:\n",
        "      dec_output = dec_layer(dec_output, enc_output, src_mask, None)\n",
        "\n",
        "    #print(dec_output[: ,-1])\n",
        "\n",
        "    logits = transformer.fc(dec_output[: , -1, :])\n",
        "    predicted_token = torch.argmax(logits, dim=-1)\n",
        "\n",
        "    generated_sequence.append(predicted_token.item())\n",
        "\n",
        "    tgt = torch.cat([tgt, predicted_token.unsqueeze(-1)], dim=-1)\n",
        "\n",
        "    if predicted_token.item() == end_token:\n",
        "      break\n",
        "\n",
        "  return generated_sequence"
      ],
      "metadata": {
        "id": "SmQzFzA8w9ms"
      },
      "execution_count": 44,
      "outputs": []
    },
    {
      "cell_type": "code",
      "source": [
        "criterion = nn.CrossEntropyLoss(ignore_index=0)\n",
        "optimizer = optim.Adam(transformer.parameters(), lr=0.0001, betas=(0.9, 0.98), eps=1e-9)\n",
        "\n",
        "transformer.train()\n",
        "\n",
        "for epoch in range(100):\n",
        "    optimizer.zero_grad()\n",
        "    output = transformer(src_data, tgt_data[:, :-1])\n",
        "    loss = criterion(output.contiguous().view(-1, tgt_vocab_size), tgt_data[:, 1:].contiguous().view(-1))\n",
        "    loss.backward()\n",
        "    optimizer.step()\n",
        "    print(f\"Epoch: {epoch+1}, Loss: {loss.item()}\")"
      ],
      "metadata": {
        "colab": {
          "base_uri": "https://localhost:8080/"
        },
        "id": "3Vsd-S9Mzy5b",
        "outputId": "e5b985d8-696d-4c29-e591-35f292c0c9d7"
      },
      "execution_count": 41,
      "outputs": [
        {
          "output_type": "stream",
          "name": "stdout",
          "text": [
            "Epoch: 1, Loss: 2.0559885501861572\n",
            "Epoch: 2, Loss: 0.5785306096076965\n",
            "Epoch: 3, Loss: 0.6938692927360535\n",
            "Epoch: 4, Loss: 0.325442910194397\n",
            "Epoch: 5, Loss: 0.1525500863790512\n",
            "Epoch: 6, Loss: 0.19429273903369904\n",
            "Epoch: 7, Loss: 0.11214840412139893\n",
            "Epoch: 8, Loss: 0.010207866318523884\n",
            "Epoch: 9, Loss: 0.0039897519163787365\n",
            "Epoch: 10, Loss: 0.00397447170689702\n",
            "Epoch: 11, Loss: 0.003894123015925288\n",
            "Epoch: 12, Loss: 0.004027724731713533\n",
            "Epoch: 13, Loss: 0.0018542163306847215\n",
            "Epoch: 14, Loss: 0.004249962512403727\n",
            "Epoch: 15, Loss: 0.0043480959720909595\n",
            "Epoch: 16, Loss: 0.002685801824554801\n",
            "Epoch: 17, Loss: 0.0015867622569203377\n",
            "Epoch: 18, Loss: 0.0021295829210430384\n",
            "Epoch: 19, Loss: 0.0013033106224611402\n",
            "Epoch: 20, Loss: 0.0012513699475675821\n",
            "Epoch: 21, Loss: 0.0013546844711527228\n",
            "Epoch: 22, Loss: 0.0008079048711806536\n",
            "Epoch: 23, Loss: 0.000776016095187515\n",
            "Epoch: 24, Loss: 0.0006637386395595968\n",
            "Epoch: 25, Loss: 0.0009534747223369777\n",
            "Epoch: 26, Loss: 0.000535212573595345\n",
            "Epoch: 27, Loss: 0.0006989460089243948\n",
            "Epoch: 28, Loss: 0.0006534606218338013\n",
            "Epoch: 29, Loss: 0.0004330533847678453\n",
            "Epoch: 30, Loss: 0.00034754458465613425\n",
            "Epoch: 31, Loss: 0.0003170771524310112\n",
            "Epoch: 32, Loss: 0.00027131816023029387\n",
            "Epoch: 33, Loss: 0.0002365193358855322\n",
            "Epoch: 34, Loss: 0.0002121689758496359\n",
            "Epoch: 35, Loss: 0.0001973891630768776\n",
            "Epoch: 36, Loss: 0.0001964750117622316\n",
            "Epoch: 37, Loss: 0.0001766113709891215\n",
            "Epoch: 38, Loss: 0.00015265516412910074\n",
            "Epoch: 39, Loss: 0.00015396626258734614\n",
            "Epoch: 40, Loss: 0.00015035027172416449\n",
            "Epoch: 41, Loss: 0.0001210690606967546\n",
            "Epoch: 42, Loss: 0.00011602309677982703\n",
            "Epoch: 43, Loss: 0.00010255433153361082\n",
            "Epoch: 44, Loss: 0.00011495066428324208\n",
            "Epoch: 45, Loss: 0.00010930837743217126\n",
            "Epoch: 46, Loss: 8.991933282231912e-05\n",
            "Epoch: 47, Loss: 9.711100574349985e-05\n",
            "Epoch: 48, Loss: 8.368139970116317e-05\n",
            "Epoch: 49, Loss: 8.618430001661181e-05\n",
            "Epoch: 50, Loss: 8.844925469020382e-05\n",
            "Epoch: 51, Loss: 8.034376514842734e-05\n",
            "Epoch: 52, Loss: 8.527054887963459e-05\n",
            "Epoch: 53, Loss: 7.807896326994523e-05\n",
            "Epoch: 54, Loss: 6.715230119880289e-05\n",
            "Epoch: 55, Loss: 6.460932490881532e-05\n",
            "Epoch: 56, Loss: 5.876843351870775e-05\n",
            "Epoch: 57, Loss: 6.15895478404127e-05\n",
            "Epoch: 58, Loss: 6.36557160760276e-05\n",
            "Epoch: 59, Loss: 5.7020119129447266e-05\n",
            "Epoch: 60, Loss: 6.051671152818017e-05\n",
            "Epoch: 61, Loss: 5.396060805651359e-05\n",
            "Epoch: 62, Loss: 5.1695722504518926e-05\n",
            "Epoch: 63, Loss: 5.1656021241797134e-05\n",
            "Epoch: 64, Loss: 4.4861400965601206e-05\n",
            "Epoch: 65, Loss: 4.466274185688235e-05\n",
            "Epoch: 66, Loss: 4.63315773231443e-05\n",
            "Epoch: 67, Loss: 4.617266313289292e-05\n",
            "Epoch: 68, Loss: 4.430512126418762e-05\n",
            "Epoch: 69, Loss: 3.997403473476879e-05\n",
            "Epoch: 70, Loss: 4.1245522879762575e-05\n",
            "Epoch: 71, Loss: 3.822569124167785e-05\n",
            "Epoch: 72, Loss: 4.2755473259603605e-05\n",
            "Epoch: 73, Loss: 3.413299782550894e-05\n",
            "Epoch: 74, Loss: 3.8583293644478545e-05\n",
            "Epoch: 75, Loss: 3.325881334603764e-05\n",
            "Epoch: 76, Loss: 3.520585232763551e-05\n",
            "Epoch: 77, Loss: 3.647737321443856e-05\n",
            "Epoch: 78, Loss: 3.349723920109682e-05\n",
            "Epoch: 79, Loss: 3.397405089344829e-05\n",
            "Epoch: 80, Loss: 3.15502256853506e-05\n",
            "Epoch: 81, Loss: 3.0477365726255812e-05\n",
            "Epoch: 82, Loss: 3.2543593988521025e-05\n",
            "Epoch: 83, Loss: 2.928530921053607e-05\n",
            "Epoch: 84, Loss: 3.353694046381861e-05\n",
            "Epoch: 85, Loss: 2.9364769943640567e-05\n",
            "Epoch: 86, Loss: 3.317935988889076e-05\n",
            "Epoch: 87, Loss: 2.8252201445866376e-05\n",
            "Epoch: 88, Loss: 2.964291525131557e-05\n",
            "Epoch: 89, Loss: 2.896742989833001e-05\n",
            "Epoch: 90, Loss: 2.7099871658720076e-05\n",
            "Epoch: 91, Loss: 2.694091381272301e-05\n",
            "Epoch: 92, Loss: 2.6384610464447178e-05\n",
            "Epoch: 93, Loss: 2.6265412088832818e-05\n",
            "Epoch: 94, Loss: 2.658331322891172e-05\n",
            "Epoch: 95, Loss: 2.4795197532512248e-05\n",
            "Epoch: 96, Loss: 2.368262539675925e-05\n",
            "Epoch: 97, Loss: 2.1695848772651516e-05\n",
            "Epoch: 98, Loss: 2.4000502889975905e-05\n",
            "Epoch: 99, Loss: 2.2848167645861395e-05\n",
            "Epoch: 100, Loss: 2.872898221539799e-05\n"
          ]
        }
      ]
    },
    {
      "cell_type": "code",
      "source": [
        "\n",
        "start_token = 1\n",
        "end_token = 2\n",
        "\n",
        "generated_seq = generate_sequence(transformer, src_data, start_token, end_token, max_length=50)\n",
        "\n",
        "\n",
        "reverse_vocab = {v:k for k, v in german_vocab.items()}\n",
        "gen_words =  [reverse_vocab[token] for token in generated_seq]\n",
        "\n",
        "print(\" \".join(gen_words))"
      ],
      "metadata": {
        "colab": {
          "base_uri": "https://localhost:8080/"
        },
        "id": "N96b1Fof11MG",
        "outputId": "5c28c71a-f99e-4192-db5a-025253d6018f"
      },
      "execution_count": 45,
      "outputs": [
        {
          "output_type": "stream",
          "name": "stdout",
          "text": [
            "<START> lerne maschinelle Übersetzung maschinelle Übersetzung\n"
          ]
        }
      ]
    },
    {
      "cell_type": "code",
      "source": [],
      "metadata": {
        "id": "r0hlJFjR2okK"
      },
      "execution_count": null,
      "outputs": []
    }
  ]
}