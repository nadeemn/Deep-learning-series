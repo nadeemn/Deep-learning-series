{
 "cells": [
  {
   "cell_type": "code",
   "execution_count": 2,
   "metadata": {},
   "outputs": [
    {
     "name": "stdout",
     "output_type": "stream",
     "text": [
      "Total number of charachters:  20479\n",
      "I HAD always thought Jack Gisburn rather a cheap genius--though a good fellow enough--so it was no \n"
     ]
    }
   ],
   "source": [
    "with open(\"the-verdict.txt\", 'r') as f:\n",
    "    raw_text = f.read()\n",
    "print(\"Total number of charachters: \", len(raw_text))\n",
    "\n",
    "print(raw_text[:99])"
   ]
  },
  {
   "cell_type": "code",
   "execution_count": 10,
   "metadata": {},
   "outputs": [
    {
     "name": "stdout",
     "output_type": "stream",
     "text": [
      "['I', 'HAD', 'always', 'thought', 'Jack', 'Gisburn', 'rather', 'a', 'cheap', 'genius', '--', 'though', 'a', 'good', 'fellow', 'enough', '--', 'so', 'it', 'was', 'no', 'great', 'surprise', 'to', 'me', 'to', 'hear', 'that', ',', 'in']\n"
     ]
    }
   ],
   "source": [
    "import re\n",
    "\n",
    "preprocessed = re.split(r'([,.:;?!_\"()\\']|--|\\s)', raw_text)\n",
    "preprocessed = [item.strip() for item in preprocessed if item.strip()]\n",
    "print(preprocessed[:30])"
   ]
  },
  {
   "cell_type": "code",
   "execution_count": 13,
   "metadata": {},
   "outputs": [
    {
     "name": "stdout",
     "output_type": "stream",
     "text": [
      "1130\n"
     ]
    }
   ],
   "source": [
    "all_words = sorted(set(preprocessed))\n",
    "vocab_size = len(all_words)\n",
    "print(vocab_size)"
   ]
  },
  {
   "cell_type": "code",
   "execution_count": 21,
   "metadata": {},
   "outputs": [],
   "source": [
    "vocab = {token:i for i, token in enumerate(all_words)}"
   ]
  },
  {
   "cell_type": "code",
   "execution_count": 23,
   "metadata": {},
   "outputs": [
    {
     "name": "stdout",
     "output_type": "stream",
     "text": [
      "('!', 0)\n",
      "('\"', 1)\n",
      "(\"'\", 2)\n",
      "('(', 3)\n",
      "(')', 4)\n",
      "(',', 5)\n",
      "('--', 6)\n",
      "('.', 7)\n",
      "(':', 8)\n",
      "(';', 9)\n",
      "('?', 10)\n",
      "('A', 11)\n",
      "('Ah', 12)\n",
      "('Among', 13)\n",
      "('And', 14)\n",
      "('Are', 15)\n",
      "('Arrt', 16)\n",
      "('As', 17)\n",
      "('At', 18)\n",
      "('Be', 19)\n",
      "('Begin', 20)\n",
      "('Burlington', 21)\n",
      "('But', 22)\n",
      "('By', 23)\n",
      "('Carlo', 24)\n",
      "('Chicago', 25)\n",
      "('Claude', 26)\n",
      "('Come', 27)\n",
      "('Croft', 28)\n",
      "('Destroyed', 29)\n",
      "('Devonshire', 30)\n",
      "('Don', 31)\n",
      "('Dubarry', 32)\n",
      "('Emperors', 33)\n",
      "('Florence', 34)\n",
      "('For', 35)\n",
      "('Gallery', 36)\n",
      "('Gideon', 37)\n",
      "('Gisburn', 38)\n",
      "('Gisburns', 39)\n",
      "('Grafton', 40)\n",
      "('Greek', 41)\n",
      "('Grindle', 42)\n",
      "('Grindles', 43)\n",
      "('HAD', 44)\n",
      "('Had', 45)\n",
      "('Hang', 46)\n",
      "('Has', 47)\n",
      "('He', 48)\n",
      "('Her', 49)\n",
      "('Hermia', 50)\n"
     ]
    }
   ],
   "source": [
    "for i, token in enumerate(vocab.items()):\n",
    "    print(token)\n",
    "    if i == 50:\n",
    "        break"
   ]
  },
  {
   "cell_type": "code",
   "execution_count": 24,
   "metadata": {},
   "outputs": [],
   "source": [
    "class Tokenizer:\n",
    "    def __init__(self, vocab):\n",
    "        self.str_to_int = vocab\n",
    "        self.int_to_str = {i:s for s,i in vocab.items()}\n",
    "\n",
    "    def encode(self, text):\n",
    "        preprocessed = re.split(r'([,.:;?!_\"()\\']|--|\\s)', text)\n",
    "        preprocessed = [item.strip() for item in preprocessed if item.strip()]\n",
    "        ids = [self.str_to_int[s] for s in preprocessed]\n",
    "\n",
    "        return ids\n",
    "\n",
    "    def decode(self, ids):\n",
    "        text = \" \".join([self.int_to_str[i] for i in ids])\n",
    "        text= re.sub(r'\\s+([,.:;?!_\"()\\'])', r'\\1', text)\n",
    "        return text"
   ]
  },
  {
   "cell_type": "code",
   "execution_count": 25,
   "metadata": {},
   "outputs": [
    {
     "name": "stdout",
     "output_type": "stream",
     "text": [
      "[56, 2, 850, 988, 602, 533, 746, 5, 1126, 596, 5, 67, 7, 38, 851, 1108, 754, 793, 7]\n"
     ]
    }
   ],
   "source": [
    "tokenizer = Tokenizer(vocab=vocab)\n",
    "text = \"\"\"It's the last he painted, you know, Mrs. Gisburn said with pardonable pride.\"\"\"\n",
    "ids = tokenizer.encode(text)\n",
    "print(ids)"
   ]
  },
  {
   "cell_type": "code",
   "execution_count": 26,
   "metadata": {},
   "outputs": [
    {
     "data": {
      "text/plain": [
       "\"It' s the last he painted, you know, Mrs. Gisburn said with pardonable pride.\""
      ]
     },
     "execution_count": 26,
     "metadata": {},
     "output_type": "execute_result"
    }
   ],
   "source": [
    "tokenizer.decode(ids)\n"
   ]
  },
  {
   "cell_type": "code",
   "execution_count": 30,
   "metadata": {},
   "outputs": [
    {
     "name": "stdout",
     "output_type": "stream",
     "text": [
      "1132\n"
     ]
    }
   ],
   "source": [
    "all_tokens = sorted(list(set(preprocessed)))\n",
    "all_tokens.extend([\"<|endoftext|>\", \"<|ukw|>\"])\n",
    "\n",
    "vocab = {token: i for i, token in enumerate(all_tokens)}\n",
    "print(len(vocab.items()))"
   ]
  },
  {
   "cell_type": "code",
   "execution_count": 31,
   "metadata": {},
   "outputs": [
    {
     "name": "stdout",
     "output_type": "stream",
     "text": [
      "('younger', 1127)\n",
      "('your', 1128)\n",
      "('yourself', 1129)\n",
      "('<|endoftext|>', 1130)\n",
      "('<|ukw|>', 1131)\n"
     ]
    }
   ],
   "source": [
    "for _, tokens in enumerate(list(vocab.items())[-5:]):\n",
    "    print(tokens)"
   ]
  },
  {
   "cell_type": "code",
   "execution_count": 37,
   "metadata": {},
   "outputs": [],
   "source": [
    "class Tokenizerv2:\n",
    "    def __init__(self, vocab):\n",
    "        self.str_to_int = vocab\n",
    "        self.int_to_str = {i:s for s,i in vocab.items()}\n",
    "\n",
    "    def encode(self, text):\n",
    "        preprocessed = re.split(r'([,.:;?!_\"()\\']|--|\\s)', text)\n",
    "        preprocessed = [item.strip() for item in preprocessed if item.strip()]\n",
    "        preprocessed = [\n",
    "            item if item in self.str_to_int else \"<|ukw|>\" for item in preprocessed\n",
    "        ]\n",
    "        ids = [self.str_to_int[s] for s in preprocessed]\n",
    "\n",
    "        return ids\n",
    "\n",
    "    def decode(self, ids):\n",
    "        text = \" \".join([self.int_to_str[i] for i in ids])\n",
    "        text= re.sub(r'\\s+([,.:;?!_\"()\\'])', r'\\1', text)\n",
    "        return text"
   ]
  },
  {
   "cell_type": "code",
   "execution_count": 38,
   "metadata": {},
   "outputs": [
    {
     "name": "stdout",
     "output_type": "stream",
     "text": [
      "Hello, do you like tea? <|endoftext|> In the sunlit terraces of the palace.\n"
     ]
    }
   ],
   "source": [
    "tokenizer = Tokenizerv2(vocab=vocab)\n",
    "\n",
    "text1 = \"Hello, do you like tea?\"\n",
    "text2 = \"In the sunlit terraces of the palace.\"\n",
    "\n",
    "text = \" <|endoftext|> \".join((text1, text2))\n",
    "print(text)"
   ]
  },
  {
   "cell_type": "code",
   "execution_count": 42,
   "metadata": {},
   "outputs": [
    {
     "data": {
      "text/plain": [
       "[1131, 5, 355, 1126, 628, 975, 10, 1130, 55, 988, 956, 984, 722, 988, 1131, 7]"
      ]
     },
     "execution_count": 42,
     "metadata": {},
     "output_type": "execute_result"
    }
   ],
   "source": [
    "ids = tokenizer.encode(text)\n",
    "ids"
   ]
  },
  {
   "cell_type": "code",
   "execution_count": 43,
   "metadata": {},
   "outputs": [
    {
     "data": {
      "text/plain": [
       "'<|ukw|>, do you like tea? <|endoftext|> In the sunlit terraces of the <|ukw|>.'"
      ]
     },
     "execution_count": 43,
     "metadata": {},
     "output_type": "execute_result"
    }
   ],
   "source": [
    "tokenizer.decode(ids)"
   ]
  },
  {
   "cell_type": "code",
   "execution_count": 44,
   "metadata": {},
   "outputs": [
    {
     "name": "stdout",
     "output_type": "stream",
     "text": [
      "Collecting tiktoken\n",
      "  Downloading tiktoken-0.8.0-cp311-cp311-win_amd64.whl.metadata (6.8 kB)\n",
      "Requirement already satisfied: regex>=2022.1.18 in c:\\users\\nadee\\appdata\\local\\programs\\python\\python311\\lib\\site-packages (from tiktoken) (2024.4.28)\n",
      "Requirement already satisfied: requests>=2.26.0 in c:\\users\\nadee\\appdata\\local\\programs\\python\\python311\\lib\\site-packages (from tiktoken) (2.32.3)\n",
      "Requirement already satisfied: charset-normalizer<4,>=2 in c:\\users\\nadee\\appdata\\local\\programs\\python\\python311\\lib\\site-packages (from requests>=2.26.0->tiktoken) (3.3.2)\n",
      "Requirement already satisfied: idna<4,>=2.5 in c:\\users\\nadee\\appdata\\local\\programs\\python\\python311\\lib\\site-packages (from requests>=2.26.0->tiktoken) (3.7)\n",
      "Requirement already satisfied: urllib3<3,>=1.21.1 in c:\\users\\nadee\\appdata\\local\\programs\\python\\python311\\lib\\site-packages (from requests>=2.26.0->tiktoken) (2.2.1)\n",
      "Requirement already satisfied: certifi>=2017.4.17 in c:\\users\\nadee\\appdata\\local\\programs\\python\\python311\\lib\\site-packages (from requests>=2.26.0->tiktoken) (2024.6.2)\n",
      "Downloading tiktoken-0.8.0-cp311-cp311-win_amd64.whl (884 kB)\n",
      "   ---------------------------------------- 0.0/884.5 kB ? eta -:--:--\n",
      "   - ------------------------------------- 30.7/884.5 kB 640.0 kB/s eta 0:00:02\n",
      "   ------------ --------------------------- 286.7/884.5 kB 3.5 MB/s eta 0:00:01\n",
      "   ----------------------------------- ---- 778.2/884.5 kB 6.1 MB/s eta 0:00:01\n",
      "   ---------------------------------------- 884.5/884.5 kB 5.6 MB/s eta 0:00:00\n",
      "Installing collected packages: tiktoken\n",
      "Successfully installed tiktoken-0.8.0\n"
     ]
    },
    {
     "name": "stderr",
     "output_type": "stream",
     "text": [
      "\n",
      "[notice] A new release of pip is available: 24.0 -> 24.3.1\n",
      "[notice] To update, run: python.exe -m pip install --upgrade pip\n"
     ]
    }
   ],
   "source": [
    "! pip install tiktoken"
   ]
  },
  {
   "cell_type": "code",
   "execution_count": 45,
   "metadata": {},
   "outputs": [],
   "source": [
    "import tiktoken\n",
    "\n",
    "tokenizer = tiktoken.get_encoding(\"gpt2\")"
   ]
  },
  {
   "cell_type": "code",
   "execution_count": 47,
   "metadata": {},
   "outputs": [
    {
     "data": {
      "text/plain": [
       "[15496,\n",
       " 11,\n",
       " 466,\n",
       " 345,\n",
       " 588,\n",
       " 8887,\n",
       " 30,\n",
       " 220,\n",
       " 50256,\n",
       " 554,\n",
       " 262,\n",
       " 4252,\n",
       " 18250,\n",
       " 8812,\n",
       " 2114,\n",
       " 286,\n",
       " 262,\n",
       " 617,\n",
       " 34680,\n",
       " 18596,\n",
       " 558,\n",
       " 13]"
      ]
     },
     "execution_count": 47,
     "metadata": {},
     "output_type": "execute_result"
    }
   ],
   "source": [
    "text = \"Hello, do you like tea? <|endoftext|> In the sunlit terraces of the someunknownpalace.\"\n",
    "\n",
    "ids = tokenizer.encode(text, allowed_special={\"<|endoftext|>\"})\n",
    "ids"
   ]
  },
  {
   "cell_type": "code",
   "execution_count": 48,
   "metadata": {},
   "outputs": [
    {
     "data": {
      "text/plain": [
       "'Hello, do you like tea? <|endoftext|> In the sunlit terraces of the someunknownpalace.'"
      ]
     },
     "execution_count": 48,
     "metadata": {},
     "output_type": "execute_result"
    }
   ],
   "source": [
    "string = tokenizer.decode(ids)\n",
    "string"
   ]
  },
  {
   "cell_type": "code",
   "execution_count": 49,
   "metadata": {},
   "outputs": [
    {
     "data": {
      "text/plain": [
       "5145"
      ]
     },
     "execution_count": 49,
     "metadata": {},
     "output_type": "execute_result"
    }
   ],
   "source": [
    "enc_text = tokenizer.encode(raw_text)\n",
    "len(enc_text)"
   ]
  },
  {
   "cell_type": "code",
   "execution_count": 51,
   "metadata": {},
   "outputs": [
    {
     "data": {
      "text/plain": [
       "[290,\n",
       " 4920,\n",
       " 2241,\n",
       " 287,\n",
       " 257,\n",
       " 4489,\n",
       " 64,\n",
       " 319,\n",
       " 262,\n",
       " 34686,\n",
       " 41976,\n",
       " 13,\n",
       " 357,\n",
       " 10915,\n",
       " 314,\n",
       " 2138,\n",
       " 1807,\n",
       " 340,\n",
       " 561,\n",
       " 423,\n",
       " 587,\n",
       " 10598,\n",
       " 393,\n",
       " 28537,\n",
       " 2014,\n",
       " 198,\n",
       " 198,\n",
       " 1,\n",
       " 464,\n",
       " 6001,\n",
       " 286,\n",
       " 465,\n",
       " 13476,\n",
       " 1,\n",
       " 438,\n",
       " 5562,\n",
       " 373,\n",
       " 644,\n",
       " 262,\n",
       " 1466,\n",
       " 1444,\n",
       " 340,\n",
       " 13,\n",
       " 314,\n",
       " 460,\n",
       " 3285,\n",
       " 9074,\n",
       " 13,\n",
       " 46606,\n",
       " 536,\n",
       " 5469,\n",
       " 438,\n",
       " 14363,\n",
       " 938,\n",
       " 4842,\n",
       " 1650,\n",
       " 353,\n",
       " 438,\n",
       " 2934,\n",
       " 489,\n",
       " 3255,\n",
       " 465,\n",
       " 48422,\n",
       " 540,\n",
       " 450,\n",
       " 67,\n",
       " 3299,\n",
       " 13,\n",
       " 366,\n",
       " 5189,\n",
       " 1781,\n",
       " 340,\n",
       " 338,\n",
       " 1016,\n",
       " 284,\n",
       " 3758,\n",
       " 262,\n",
       " 1988,\n",
       " 286,\n",
       " 616,\n",
       " 4286,\n",
       " 705,\n",
       " 1014,\n",
       " 510,\n",
       " 26,\n",
       " 475,\n",
       " 314,\n",
       " 836,\n",
       " 470,\n",
       " 892,\n",
       " 286,\n",
       " 326,\n",
       " 11,\n",
       " 1770,\n",
       " 13,\n",
       " 8759,\n",
       " 2763,\n",
       " 438,\n",
       " 1169,\n",
       " 2994,\n",
       " 284,\n",
       " 943,\n",
       " 17034,\n",
       " 318,\n",
       " 477,\n",
       " 314,\n",
       " 892,\n",
       " 286,\n",
       " 526,\n",
       " 383,\n",
       " 1573,\n",
       " 11,\n",
       " 319,\n",
       " 9074,\n",
       " 13,\n",
       " 536,\n",
       " 5469,\n",
       " 338,\n",
       " 11914,\n",
       " 11,\n",
       " 33096,\n",
       " 663,\n",
       " 4808,\n",
       " 3808,\n",
       " 62,\n",
       " 355,\n",
       " 996,\n",
       " 484,\n",
       " 547,\n",
       " 12548,\n",
       " 287,\n",
       " 281,\n",
       " 13079,\n",
       " 410,\n",
       " 12523,\n",
       " 286,\n",
       " 22353,\n",
       " 13,\n",
       " 843,\n",
       " 340,\n",
       " 373,\n",
       " 407,\n",
       " 691,\n",
       " 262,\n",
       " 9074,\n",
       " 13,\n",
       " 536,\n",
       " 48819,\n",
       " 508,\n",
       " 25722,\n",
       " 276,\n",
       " 13,\n",
       " 11161,\n",
       " 407,\n",
       " 262,\n",
       " 40123,\n",
       " 18113,\n",
       " 544,\n",
       " 9325,\n",
       " 701,\n",
       " 11,\n",
       " 379,\n",
       " 262,\n",
       " 938,\n",
       " 402,\n",
       " 1617,\n",
       " 261,\n",
       " 12917,\n",
       " 905,\n",
       " 11,\n",
       " 5025,\n",
       " 502,\n",
       " 878,\n",
       " 402,\n",
       " 271,\n",
       " 10899,\n",
       " 338,\n",
       " 366,\n",
       " 31640,\n",
       " 12,\n",
       " 67,\n",
       " 20811,\n",
       " 1,\n",
       " 284,\n",
       " 910,\n",
       " 11,\n",
       " 351,\n",
       " 10953,\n",
       " 287,\n",
       " 607,\n",
       " 2951,\n",
       " 25,\n",
       " 366,\n",
       " 1135,\n",
       " 2236,\n",
       " 407,\n",
       " 804,\n",
       " 2402,\n",
       " 663,\n",
       " 588,\n",
       " 757,\n",
       " 13984,\n",
       " 198,\n",
       " 198,\n",
       " 5779,\n",
       " 28112,\n",
       " 10197,\n",
       " 832,\n",
       " 262,\n",
       " 46475,\n",
       " 286,\n",
       " 18113,\n",
       " 544,\n",
       " 338,\n",
       " 10953,\n",
       " 314,\n",
       " 2936,\n",
       " 1498,\n",
       " 284,\n",
       " 1986,\n",
       " 262,\n",
       " 1109,\n",
       " 351,\n",
       " 1602,\n",
       " 11227,\n",
       " 414,\n",
       " 13,\n",
       " 23676,\n",
       " 3619,\n",
       " 402,\n",
       " 271,\n",
       " 10899,\n",
       " 0,\n",
       " 383,\n",
       " 1466,\n",
       " 550,\n",
       " 925,\n",
       " 683,\n",
       " 438,\n",
       " 270,\n",
       " 373,\n",
       " 15830,\n",
       " 326,\n",
       " 484,\n",
       " 815,\n",
       " 25722,\n",
       " 683,\n",
       " 13,\n",
       " 9754,\n",
       " 465,\n",
       " 898,\n",
       " 1714,\n",
       " 7380,\n",
       " 30090,\n",
       " 547,\n",
       " 2982,\n",
       " 11,\n",
       " 290,\n",
       " 287,\n",
       " 465,\n",
       " 898,\n",
       " 3292,\n",
       " 8941,\n",
       " 257,\n",
       " 4636,\n",
       " 28582,\n",
       " 13,\n",
       " 18612,\n",
       " 35394,\n",
       " 30,\n",
       " 8673,\n",
       " 13,\n",
       " 1002,\n",
       " 340,\n",
       " 547,\n",
       " 11,\n",
       " 262,\n",
       " 15393,\n",
       " 286,\n",
       " 262,\n",
       " 5977,\n",
       " 373,\n",
       " 29178,\n",
       " 3474,\n",
       " 416,\n",
       " 1310,\n",
       " 40559,\n",
       " 11959,\n",
       " 1636,\n",
       " 11,\n",
       " 508,\n",
       " 11,\n",
       " 287,\n",
       " 477,\n",
       " 922,\n",
       " 4562,\n",
       " 11,\n",
       " 3181,\n",
       " 503,\n",
       " 287,\n",
       " 262,\n",
       " 37090,\n",
       " 257,\n",
       " 845,\n",
       " 22665,\n",
       " 366,\n",
       " 672,\n",
       " 270,\n",
       " 2838,\n",
       " 1,\n",
       " 319,\n",
       " 3619,\n",
       " 438,\n",
       " 505,\n",
       " 286,\n",
       " 883,\n",
       " 905,\n",
       " 88,\n",
       " 6685,\n",
       " 42070,\n",
       " 351,\n",
       " 4738,\n",
       " 6276,\n",
       " 871,\n",
       " 326,\n",
       " 314,\n",
       " 423,\n",
       " 2982,\n",
       " 357,\n",
       " 40,\n",
       " 1839,\n",
       " 470,\n",
       " 910,\n",
       " 416,\n",
       " 4150,\n",
       " 8,\n",
       " 3688,\n",
       " 284,\n",
       " 402,\n",
       " 271,\n",
       " 10899,\n",
       " 338,\n",
       " 12036,\n",
       " 13,\n",
       " 843,\n",
       " 523,\n",
       " 438,\n",
       " 14363,\n",
       " 10568,\n",
       " 852,\n",
       " 5729,\n",
       " 11331,\n",
       " 18893,\n",
       " 540,\n",
       " 438,\n",
       " 1169,\n",
       " 5114,\n",
       " 11835,\n",
       " 3724,\n",
       " 503,\n",
       " 11,\n",
       " 290,\n",
       " 11,\n",
       " 355,\n",
       " 9074,\n",
       " 13,\n",
       " 536,\n",
       " 5469,\n",
       " 550,\n",
       " 11001,\n",
       " 11,\n",
       " 262,\n",
       " 2756,\n",
       " 286,\n",
       " 366,\n",
       " 38,\n",
       " 271,\n",
       " 10899,\n",
       " 82,\n",
       " 1,\n",
       " 1816,\n",
       " 510,\n",
       " 13,\n",
       " 198,\n",
       " 198,\n",
       " 1026,\n",
       " 373,\n",
       " 407,\n",
       " 10597,\n",
       " 1115,\n",
       " 812,\n",
       " 1568,\n",
       " 326,\n",
       " 11,\n",
       " 287,\n",
       " 262,\n",
       " 1781,\n",
       " 286,\n",
       " 257,\n",
       " 1178,\n",
       " 2745,\n",
       " 6,\n",
       " 4686,\n",
       " 1359,\n",
       " 319,\n",
       " 262,\n",
       " 34686,\n",
       " 41976,\n",
       " 11,\n",
       " 340,\n",
       " 6451,\n",
       " 5091,\n",
       " 284,\n",
       " 502,\n",
       " 284,\n",
       " 4240,\n",
       " 1521,\n",
       " 402,\n",
       " 271,\n",
       " 10899,\n",
       " 550,\n",
       " 1813,\n",
       " 510,\n",
       " 465,\n",
       " 12036,\n",
       " 13,\n",
       " 1550,\n",
       " 14580,\n",
       " 11,\n",
       " 340,\n",
       " 1107,\n",
       " 373,\n",
       " 257,\n",
       " 29850,\n",
       " 1917,\n",
       " 13,\n",
       " 1675,\n",
       " 24456,\n",
       " 465,\n",
       " 3656,\n",
       " 561,\n",
       " 423,\n",
       " 587,\n",
       " 1165,\n",
       " 2562,\n",
       " 438,\n",
       " 14363,\n",
       " 3148,\n",
       " 1650,\n",
       " 1010,\n",
       " 550,\n",
       " 587,\n",
       " 6699,\n",
       " 262,\n",
       " 1540,\n",
       " 558,\n",
       " 286,\n",
       " 2282,\n",
       " 326,\n",
       " 9074,\n",
       " 13,\n",
       " 402,\n",
       " 271,\n",
       " 10899,\n",
       " 550,\n",
       " 366,\n",
       " 7109,\n",
       " 14655,\n",
       " 683,\n",
       " 866,\n",
       " 526,\n",
       " 1114,\n",
       " 9074,\n",
       " 13,\n",
       " 402,\n",
       " 271,\n",
       " 10899,\n",
       " 438,\n",
       " 292,\n",
       " 884,\n",
       " 438,\n",
       " 18108,\n",
       " 407,\n",
       " 11196,\n",
       " 10597,\n",
       " 3016,\n",
       " 257,\n",
       " 614,\n",
       " 706,\n",
       " 3619,\n",
       " 338,\n",
       " 10568,\n",
       " 550,\n",
       " 587,\n",
       " 2077,\n",
       " 13,\n",
       " 632,\n",
       " 1244,\n",
       " 307,\n",
       " 326,\n",
       " 339,\n",
       " 550,\n",
       " 6405,\n",
       " 607,\n",
       " 438,\n",
       " 20777,\n",
       " 339,\n",
       " 8288,\n",
       " 465,\n",
       " 10152,\n",
       " 438,\n",
       " 13893,\n",
       " 339,\n",
       " 1422,\n",
       " 470,\n",
       " 765,\n",
       " 284,\n",
       " 467,\n",
       " 319,\n",
       " 12036,\n",
       " 26,\n",
       " 475,\n",
       " 340,\n",
       " 561,\n",
       " 423,\n",
       " 587,\n",
       " 1327,\n",
       " 284,\n",
       " 5879,\n",
       " 326,\n",
       " 339,\n",
       " 550,\n",
       " 1813,\n",
       " 510,\n",
       " 465,\n",
       " 12036,\n",
       " 780,\n",
       " 339,\n",
       " 550,\n",
       " 6405,\n",
       " 607,\n",
       " 13,\n",
       " 198,\n",
       " 198,\n",
       " 5189,\n",
       " 1781,\n",
       " 11,\n",
       " 611,\n",
       " 673,\n",
       " 550,\n",
       " 407,\n",
       " 17901,\n",
       " 683,\n",
       " 866,\n",
       " 11,\n",
       " 673,\n",
       " 550,\n",
       " 8603,\n",
       " 11,\n",
       " 355,\n",
       " 4544,\n",
       " 9325,\n",
       " 701,\n",
       " 42397,\n",
       " 11,\n",
       " 4054,\n",
       " 284,\n",
       " 366,\n",
       " 26282,\n",
       " 683,\n",
       " 510,\n",
       " 1,\n",
       " 438,\n",
       " 7091,\n",
       " 550,\n",
       " 407,\n",
       " 2957,\n",
       " 683,\n",
       " 736,\n",
       " 284,\n",
       " 262,\n",
       " 1396,\n",
       " 417,\n",
       " 13,\n",
       " 1675,\n",
       " 1234,\n",
       " 262,\n",
       " 14093,\n",
       " 656,\n",
       " 465,\n",
       " 1021,\n",
       " 757,\n",
       " 438,\n",
       " 10919,\n",
       " 257,\n",
       " 410,\n",
       " 5040,\n",
       " 329,\n",
       " 257,\n",
       " 3656,\n",
       " 0,\n",
       " 887,\n",
       " 9074,\n",
       " 13,\n",
       " 402,\n",
       " 271,\n",
       " 10899,\n",
       " 4120,\n",
       " 284,\n",
       " 423,\n",
       " 595,\n",
       " 67,\n",
       " 1328,\n",
       " 340,\n",
       " 438,\n",
       " 392,\n",
       " 314,\n",
       " 2936,\n",
       " 340,\n",
       " 1244,\n",
       " 307,\n",
       " 3499,\n",
       " 284,\n",
       " 1064,\n",
       " 503,\n",
       " 1521,\n",
       " 13,\n",
       " 198,\n",
       " 198,\n",
       " 464,\n",
       " 748,\n",
       " 586,\n",
       " 652,\n",
       " 1204,\n",
       " 286,\n",
       " 262,\n",
       " 34686,\n",
       " 41976,\n",
       " 37733,\n",
       " 2346,\n",
       " 284,\n",
       " 884,\n",
       " 14177,\n",
       " 8233,\n",
       " 1020,\n",
       " 5768,\n",
       " 26,\n",
       " 290,\n",
       " 1719,\n",
       " 11,\n",
       " 319,\n",
       " 616,\n",
       " 835,\n",
       " 284,\n",
       " 22489,\n",
       " 40089,\n",
       " 11,\n",
       " 4978,\n",
       " 257,\n",
       " 19350,\n",
       " 286,\n",
       " 3619,\n",
       " 338,\n",
       " 3652,\n",
       " 436,\n",
       " 81,\n",
       " 5286,\n",
       " 8812,\n",
       " 2114,\n",
       " 1022,\n",
       " 262,\n",
       " 279,\n",
       " 1127,\n",
       " 11,\n",
       " 314,\n",
       " 550,\n",
       " 3589,\n",
       " 28068,\n",
       " 294,\n",
       " 1555,\n",
       " 262,\n",
       " 1306,\n",
       " 1110,\n",
       " 13,\n",
       " 198,\n",
       " 198,\n",
       " 40,\n",
       " 1043,\n",
       " 262,\n",
       " 3155,\n",
       " 379,\n",
       " 8887,\n",
       " 11061,\n",
       " 511,\n",
       " 18057,\n",
       " 12,\n",
       " 83,\n",
       " 6037,\n",
       " 26,\n",
       " 290,\n",
       " 9074,\n",
       " 13,\n",
       " 402,\n",
       " 271,\n",
       " 10899,\n",
       " 338,\n",
       " 7062,\n",
       " 373,\n",
       " 523,\n",
       " 2429,\n",
       " 498,\n",
       " 326,\n",
       " 11,\n",
       " 287,\n",
       " 262,\n",
       " 29543,\n",
       " 2745,\n",
       " 11,\n",
       " 314,\n",
       " 4752,\n",
       " 340,\n",
       " 6777,\n",
       " 13,\n",
       " 632,\n",
       " 373,\n",
       " 407,\n",
       " 326,\n",
       " 616,\n",
       " 2583,\n",
       " 408,\n",
       " 373,\n",
       " 366,\n",
       " 47914,\n",
       " 1298,\n",
       " 319,\n",
       " 326,\n",
       " 966,\n",
       " 314,\n",
       " 714,\n",
       " 423,\n",
       " 1813,\n",
       " 4544,\n",
       " 9325,\n",
       " 701,\n",
       " 262,\n",
       " 40830,\n",
       " 12719,\n",
       " 3874,\n",
       " 13,\n",
       " 632,\n",
       " 373,\n",
       " 655,\n",
       " 780,\n",
       " 673,\n",
       " 373,\n",
       " 4808,\n",
       " 1662,\n",
       " 62,\n",
       " 3499,\n",
       " 438,\n",
       " 361,\n",
       " 314,\n",
       " 743,\n",
       " 307,\n",
       " 41746,\n",
       " 12004,\n",
       " 262,\n",
       " 6473,\n",
       " 438,\n",
       " 5562,\n",
       " 314,\n",
       " 1043,\n",
       " 607,\n",
       " 523,\n",
       " 13,\n",
       " 1114,\n",
       " 3619,\n",
       " 11,\n",
       " 477,\n",
       " 465,\n",
       " 1204,\n",
       " 11,\n",
       " 550,\n",
       " 587,\n",
       " 11191,\n",
       " 416,\n",
       " 3499,\n",
       " 1466,\n",
       " 25,\n",
       " 484,\n",
       " 550,\n",
       " 26546,\n",
       " 1068,\n",
       " 465,\n",
       " 1242,\n",
       " 11,\n",
       " 340,\n",
       " 550,\n",
       " 587,\n",
       " 302,\n",
       " 1144,\n",
       " 287,\n",
       " 262,\n",
       " 3024,\n",
       " 12,\n",
       " 4803,\n",
       " 286,\n",
       " 511,\n",
       " 512,\n",
       " 1741,\n",
       " 13,\n",
       " 843,\n",
       " 340,\n",
       " 373,\n",
       " 4361,\n",
       " 5048,\n",
       " 425,\n",
       " 284,\n",
       " 3465,\n",
       " 644,\n",
       " 1245,\n",
       " 262,\n",
       " 366,\n",
       " 25124,\n",
       " 3101,\n",
       " 8137,\n",
       " 286,\n",
       " 16957,\n",
       " 1696,\n",
       " 414,\n",
       " 1,\n",
       " 357,\n",
       " 40,\n",
       " 9577,\n",
       " 4544,\n",
       " 9325,\n",
       " 701,\n",
       " 8,\n",
       " 373,\n",
       " 1719,\n",
       " 319,\n",
       " 683,\n",
       " 13,\n",
       " 198,\n",
       " 198,\n",
       " 40,\n",
       " 423,\n",
       " 4750,\n",
       " 326,\n",
       " 9074,\n",
       " 13,\n",
       " 402,\n",
       " 271,\n",
       " 10899,\n",
       " 373,\n",
       " 5527,\n",
       " 26,\n",
       " 290,\n",
       " 340,\n",
       " 373,\n",
       " 3393,\n",
       " 34953,\n",
       " 856,\n",
       " 326,\n",
       " 607,\n",
       " 5229,\n",
       " 373,\n",
       " 37895,\n",
       " 422,\n",
       " 428,\n",
       " 25179,\n",
       " 257,\n",
       " 19217,\n",
       " 475,\n",
       " 8904,\n",
       " 14676,\n",
       " 13,\n",
       " 632,\n",
       " 318,\n",
       " 11,\n",
       " 355,\n",
       " 257,\n",
       " 3896,\n",
       " 11,\n",
       " 262,\n",
       " 661,\n",
       " 508,\n",
       " 40987,\n",
       " 1637,\n",
       " 508,\n",
       " 651,\n",
       " 749,\n",
       " 503,\n",
       " 286,\n",
       " 340,\n",
       " 26,\n",
       " 290,\n",
       " 3619,\n",
       " 338,\n",
       " 19992,\n",
       " 31564,\n",
       " 286,\n",
       " 465,\n",
       " 3656,\n",
       " 338,\n",
       " 1263,\n",
       " 5236,\n",
       " 9343,\n",
       " 683,\n",
       " 11,\n",
       " 351,\n",
       " 281,\n",
       " 5585,\n",
       " 286,\n",
       " 2818,\n",
       " 922,\n",
       " 12,\n",
       " 49705,\n",
       " 11,\n",
       " 284,\n",
       " 21595,\n",
       " 1133,\n",
       " 340,\n",
       " 656,\n",
       " 5563,\n",
       " 286,\n",
       " 1242,\n",
       " 290,\n",
       " 13064,\n",
       " 13,\n",
       " 1675,\n",
       " 262,\n",
       " 6846,\n",
       " 11,\n",
       " 314,\n",
       " 1276,\n",
       " 751,\n",
       " 11,\n",
       " 339,\n",
       " 6150,\n",
       " 5365,\n",
       " 31655,\n",
       " 26,\n",
       " 475,\n",
       " 339,\n",
       " 373,\n",
       " 7067,\n",
       " 29396,\n",
       " 18443,\n",
       " 12271,\n",
       " 290,\n",
       " 45592,\n",
       " 12,\n",
       " 14792,\n",
       " 5986,\n",
       " 351,\n",
       " 257,\n",
       " 8839,\n",
       " 326,\n",
       " 7284,\n",
       " 35924,\n",
       " 262,\n",
       " 12306,\n",
       " 395,\n",
       " 4133,\n",
       " 13,\n",
       " 198,\n",
       " 198,\n",
       " 1,\n",
       " 26788,\n",
       " 338,\n",
       " 691,\n",
       " 12226,\n",
       " 318,\n",
       " 284,\n",
       " 1234,\n",
       " 8737,\n",
       " 656,\n",
       " 19133,\n",
       " 553,\n",
       " 373,\n",
       " 530,\n",
       " 286,\n",
       " 262,\n",
       " 7877,\n",
       " 72,\n",
       " 3150,\n",
       " 339,\n",
       " 8104,\n",
       " 866,\n",
       " 1973,\n",
       " 262,\n",
       " 37918,\n",
       " 411,\n",
       " 290,\n",
       " 8465,\n",
       " 286,\n",
       " 281,\n",
       " 33954,\n",
       " 271,\n",
       " ...]"
      ]
     },
     "execution_count": 51,
     "metadata": {},
     "output_type": "execute_result"
    }
   ],
   "source": [
    "enc_sample = enc_text[50:]\n",
    "enc_sample"
   ]
  },
  {
   "cell_type": "code",
   "execution_count": 52,
   "metadata": {},
   "outputs": [
    {
     "data": {
      "text/plain": [
       "([290, 4920, 2241, 287], [4920, 2241, 287, 257])"
      ]
     },
     "execution_count": 52,
     "metadata": {},
     "output_type": "execute_result"
    }
   ],
   "source": [
    "context_size = 4\n",
    "x = enc_sample[:context_size]\n",
    "y = enc_sample[1:context_size + 1]\n",
    "\n",
    "x, y"
   ]
  },
  {
   "cell_type": "code",
   "execution_count": 61,
   "metadata": {},
   "outputs": [
    {
     "name": "stdout",
     "output_type": "stream",
     "text": [
      " and ----->  established\n",
      " and established ----->  himself\n",
      " and established himself ----->  in\n",
      " and established himself in ----->  a\n"
     ]
    }
   ],
   "source": [
    "for i in range(1, context_size + 1):\n",
    "    x = enc_sample[:i]\n",
    "    y = enc_sample[i]\n",
    "\n",
    "    print(tokenizer.decode(x), \"----->\", tokenizer.decode([y]))\n"
   ]
  },
  {
   "cell_type": "code",
   "execution_count": 62,
   "metadata": {},
   "outputs": [
    {
     "name": "stdout",
     "output_type": "stream",
     "text": [
      "Requirement already satisfied: torch in c:\\users\\nadee\\appdata\\local\\programs\\python\\python311\\lib\\site-packages (2.3.0)\n",
      "Requirement already satisfied: filelock in c:\\users\\nadee\\appdata\\local\\programs\\python\\python311\\lib\\site-packages (from torch) (3.14.0)\n",
      "Requirement already satisfied: typing-extensions>=4.8.0 in c:\\users\\nadee\\appdata\\roaming\\python\\python311\\site-packages (from torch) (4.12.0)\n",
      "Requirement already satisfied: sympy in c:\\users\\nadee\\appdata\\local\\programs\\python\\python311\\lib\\site-packages (from torch) (1.12)\n",
      "Requirement already satisfied: networkx in c:\\users\\nadee\\appdata\\local\\programs\\python\\python311\\lib\\site-packages (from torch) (3.3)\n",
      "Requirement already satisfied: jinja2 in c:\\users\\nadee\\appdata\\local\\programs\\python\\python311\\lib\\site-packages (from torch) (3.1.2)\n",
      "Requirement already satisfied: fsspec in c:\\users\\nadee\\appdata\\local\\programs\\python\\python311\\lib\\site-packages (from torch) (2024.3.1)\n",
      "Requirement already satisfied: mkl<=2021.4.0,>=2021.1.1 in c:\\users\\nadee\\appdata\\local\\programs\\python\\python311\\lib\\site-packages (from torch) (2021.4.0)\n",
      "Requirement already satisfied: intel-openmp==2021.* in c:\\users\\nadee\\appdata\\local\\programs\\python\\python311\\lib\\site-packages (from mkl<=2021.4.0,>=2021.1.1->torch) (2021.4.0)\n",
      "Requirement already satisfied: tbb==2021.* in c:\\users\\nadee\\appdata\\local\\programs\\python\\python311\\lib\\site-packages (from mkl<=2021.4.0,>=2021.1.1->torch) (2021.12.0)\n",
      "Requirement already satisfied: MarkupSafe>=2.0 in c:\\users\\nadee\\appdata\\local\\programs\\python\\python311\\lib\\site-packages (from jinja2->torch) (2.1.1)\n",
      "Requirement already satisfied: mpmath>=0.19 in c:\\users\\nadee\\appdata\\local\\programs\\python\\python311\\lib\\site-packages (from sympy->torch) (1.3.0)\n"
     ]
    },
    {
     "name": "stderr",
     "output_type": "stream",
     "text": [
      "\n",
      "[notice] A new release of pip is available: 24.0 -> 24.3.1\n",
      "[notice] To update, run: python.exe -m pip install --upgrade pip\n"
     ]
    }
   ],
   "source": [
    "! pip install torch"
   ]
  },
  {
   "cell_type": "code",
   "execution_count": 66,
   "metadata": {},
   "outputs": [],
   "source": [
    "import torch\n",
    "from torch.utils.data import  DataLoader, Dataset\n",
    "\n",
    "class GPTDataset(Dataset):\n",
    "    def __init__(self, txt, tokenizer, max_length, stride):\n",
    "        self.input_ids = []\n",
    "        self.target_ids = []\n",
    "\n",
    "        token_ids = tokenizer.encode(txt, allowed_special={\"<|endoftext|>\"})\n",
    "\n",
    "        for i in range(0, len(token_ids) - max_length, stride):\n",
    "            input_chunk = token_ids[i: i+max_length]\n",
    "            target_chunk = token_ids[i+1: i+max_length+1]\n",
    "            self.input_ids.append(torch.tensor(input_chunk))\n",
    "            self.target_ids.append(torch.tensor(target_chunk))\n",
    "\n",
    "    def __len__(self):\n",
    "        return len(self.input_ids)\n",
    "\n",
    "    def __getitem__(self, idx):\n",
    "        return self.input_ids[idx], self.target_ids[idx]"
   ]
  },
  {
   "cell_type": "code",
   "execution_count": 67,
   "metadata": {},
   "outputs": [],
   "source": [
    "def create_dataloader(txt, batch_size=4, max_length=256, stride=128, shuffle=True, drop_last=True, num_workers=0):\n",
    "    tokenizer = tiktoken.get_encoding(\"gpt2\")\n",
    "    dataset = GPTDataset(txt, tokenizer, max_length, stride)\n",
    "    dataloader = DataLoader(\n",
    "        dataset,\n",
    "        batch_size=batch_size,\n",
    "        shuffle=shuffle,\n",
    "        drop_last=drop_last,\n",
    "        num_workers=num_workers\n",
    "    )\n",
    "\n",
    "    return dataloader"
   ]
  },
  {
   "cell_type": "code",
   "execution_count": 71,
   "metadata": {},
   "outputs": [
    {
     "name": "stdout",
     "output_type": "stream",
     "text": [
      "[tensor([[   40,   367,  2885,  1464],\n",
      "        [ 1807,  3619,   402,   271],\n",
      "        [10899,  2138,   257,  7026],\n",
      "        [15632,   438,  2016,   257],\n",
      "        [  922,  5891,  1576,   438],\n",
      "        [  568,   340,   373,   645],\n",
      "        [ 1049,  5975,   284,   502],\n",
      "        [  284,  3285,   326,    11]]), tensor([[  367,  2885,  1464,  1807],\n",
      "        [ 3619,   402,   271, 10899],\n",
      "        [ 2138,   257,  7026, 15632],\n",
      "        [  438,  2016,   257,   922],\n",
      "        [ 5891,  1576,   438,   568],\n",
      "        [  340,   373,   645,  1049],\n",
      "        [ 5975,   284,   502,   284],\n",
      "        [ 3285,   326,    11,   287]])]\n"
     ]
    }
   ],
   "source": [
    "dataloader = create_dataloader(raw_text, batch_size=8, max_length=4, stride=4, shuffle=False)\n",
    "print(next(iter(dataloader)))"
   ]
  },
  {
   "cell_type": "code",
   "execution_count": 83,
   "metadata": {},
   "outputs": [],
   "source": [
    "input_ids = torch.tensor([2,3,5,1])\n",
    "\n",
    "vocab_size = 50257\n",
    "dimension = 256\n",
    "\n",
    "torch.manual_seed(123)\n",
    "embedding_layer = torch.nn.Embedding(vocab_size, dimension)"
   ]
  },
  {
   "cell_type": "code",
   "execution_count": 85,
   "metadata": {},
   "outputs": [
    {
     "name": "stdout",
     "output_type": "stream",
     "text": [
      "token \n",
      " tensor([[   40,   367,  2885,  1464],\n",
      "        [ 1807,  3619,   402,   271],\n",
      "        [10899,  2138,   257,  7026],\n",
      "        [15632,   438,  2016,   257],\n",
      "        [  922,  5891,  1576,   438],\n",
      "        [  568,   340,   373,   645],\n",
      "        [ 1049,  5975,   284,   502],\n",
      "        [  284,  3285,   326,    11]])\n",
      "target \n",
      " tensor([[  367,  2885,  1464,  1807],\n",
      "        [ 3619,   402,   271, 10899],\n",
      "        [ 2138,   257,  7026, 15632],\n",
      "        [  438,  2016,   257,   922],\n",
      "        [ 5891,  1576,   438,   568],\n",
      "        [  340,   373,   645,  1049],\n",
      "        [ 5975,   284,   502,   284],\n",
      "        [ 3285,   326,    11,   287]])\n"
     ]
    }
   ],
   "source": [
    "max_length = 4\n",
    "dataloader = create_dataloader(raw_text, batch_size=8, max_length=max_length, stride=max_length, shuffle=False)\n",
    "data_iter = iter(dataloader)\n",
    "inputs, target = next(data_iter)\n",
    "\n",
    "print(\"token \\n\", inputs)\n",
    "print(\"target \\n\", target)"
   ]
  },
  {
   "cell_type": "code",
   "execution_count": 88,
   "metadata": {},
   "outputs": [
    {
     "data": {
      "text/plain": [
       "torch.Size([8, 4, 256])"
      ]
     },
     "execution_count": 88,
     "metadata": {},
     "output_type": "execute_result"
    }
   ],
   "source": [
    "token_embeddings = embedding_layer(inputs)\n",
    "token_embeddings.shape"
   ]
  },
  {
   "cell_type": "code",
   "execution_count": 90,
   "metadata": {},
   "outputs": [
    {
     "data": {
      "text/plain": [
       "torch.Size([4, 256])"
      ]
     },
     "execution_count": 90,
     "metadata": {},
     "output_type": "execute_result"
    }
   ],
   "source": [
    "context_length = max_length\n",
    "pos_embedding_layer = torch.nn.Embedding(context_size, dimension)\n",
    "\n",
    "pos_embeddings = pos_embedding_layer(torch.arange(max_length))\n",
    "pos_embeddings.shape"
   ]
  },
  {
   "cell_type": "code",
   "execution_count": 120,
   "metadata": {},
   "outputs": [
    {
     "data": {
      "text/plain": [
       "torch.Size([8, 4, 256])"
      ]
     },
     "execution_count": 120,
     "metadata": {},
     "output_type": "execute_result"
    }
   ],
   "source": [
    "input_embeddings = token_embeddings + pos_embeddings\n",
    "input_embeddings.shape"
   ]
  },
  {
   "cell_type": "code",
   "execution_count": 156,
   "metadata": {},
   "outputs": [
    {
     "data": {
      "text/plain": [
       "tensor([[0.2961, 0.5166, 0.2517],\n",
       "        [0.6886, 0.0740, 0.8665],\n",
       "        [0.1366, 0.1025, 0.1841],\n",
       "        [0.7264, 0.3153, 0.6871],\n",
       "        [0.0756, 0.1966, 0.3164],\n",
       "        [0.4017, 0.1186, 0.8274]])"
      ]
     },
     "execution_count": 156,
     "metadata": {},
     "output_type": "execute_result"
    }
   ],
   "source": [
    "torch.manual_seed(123)\n",
    "inputs = torch.rand(6,3)\n",
    "inputs"
   ]
  },
  {
   "cell_type": "code",
   "execution_count": 157,
   "metadata": {},
   "outputs": [
    {
     "data": {
      "text/plain": [
       "tensor([0.4602, 1.2304, 0.2611, 1.1189, 0.3408, 1.0023])"
      ]
     },
     "execution_count": 157,
     "metadata": {},
     "output_type": "execute_result"
    }
   ],
   "source": [
    "query = inputs[1]\n",
    "attention_score_2 = torch.empty(inputs.shape[0])\n",
    "\n",
    "for i, x_i in enumerate(inputs):\n",
    "    attention_score_2[i] =  torch.dot(x_i, query)\n",
    "\n",
    "attention_score_2"
   ]
  },
  {
   "cell_type": "code",
   "execution_count": 158,
   "metadata": {},
   "outputs": [
    {
     "data": {
      "text/plain": [
       "tensor([0.1043, 0.2788, 0.0592, 0.2535, 0.0772, 0.2271])"
      ]
     },
     "execution_count": 158,
     "metadata": {},
     "output_type": "execute_result"
    }
   ],
   "source": [
    "normalized_attention_score = attention_score_2 / attention_score_2.sum()\n",
    "normalized_attention_score"
   ]
  },
  {
   "cell_type": "code",
   "execution_count": 159,
   "metadata": {},
   "outputs": [
    {
     "data": {
      "text/plain": [
       "tensor([0.1174, 0.2536, 0.0962, 0.2268, 0.1042, 0.2019])"
      ]
     },
     "execution_count": 159,
     "metadata": {},
     "output_type": "execute_result"
    }
   ],
   "source": [
    "def naive_softmax(x):\n",
    "    return torch.exp(x) / torch.exp(x).sum(dim=0)\n",
    "\n",
    "normalized_attention_score = naive_softmax(attention_score_2)\n",
    "normalized_attention_score"
   ]
  },
  {
   "cell_type": "code",
   "execution_count": 160,
   "metadata": {},
   "outputs": [
    {
     "data": {
      "text/plain": [
       "tensor([0.1174, 0.2536, 0.0962, 0.2268, 0.1042, 0.2019])"
      ]
     },
     "execution_count": 160,
     "metadata": {},
     "output_type": "execute_result"
    }
   ],
   "source": [
    "normalized_attention_score = torch.softmax(attention_score_2, dim=0)\n",
    "normalized_attention_score"
   ]
  },
  {
   "cell_type": "code",
   "execution_count": 161,
   "metadata": {},
   "outputs": [
    {
     "data": {
      "text/plain": [
       "tensor([0.4762, 0.2052, 0.6228])"
      ]
     },
     "execution_count": 161,
     "metadata": {},
     "output_type": "execute_result"
    }
   ],
   "source": [
    "context_vector_2 = torch.zeros(query.shape)\n",
    "for i, inp in enumerate(inputs):\n",
    "    context_vector_2 += normalized_attention_score[i] * inp\n",
    "context_vector_2"
   ]
  },
  {
   "cell_type": "code",
   "execution_count": 163,
   "metadata": {},
   "outputs": [
    {
     "data": {
      "text/plain": [
       "tensor([[0.4179, 0.4602, 0.1397, 0.5509, 0.2036, 0.3884],\n",
       "        [0.4602, 1.2304, 0.2611, 1.1189, 0.3408, 1.0023],\n",
       "        [0.1397, 0.2611, 0.0630, 0.2580, 0.0887, 0.2193],\n",
       "        [0.5509, 1.1189, 0.2580, 1.0992, 0.3343, 0.8977],\n",
       "        [0.2036, 0.3408, 0.0887, 0.3343, 0.1445, 0.3155],\n",
       "        [0.3884, 1.0023, 0.2193, 0.8977, 0.3155, 0.8600]])"
      ]
     },
     "execution_count": 163,
     "metadata": {},
     "output_type": "execute_result"
    }
   ],
   "source": [
    "attention_scores = torch.empty(6,6)\n",
    "\n",
    "for i, x_i in enumerate(inputs):\n",
    "    for j, x_j in enumerate(inputs):\n",
    "        attention_scores[i, j] = torch.dot(x_i, x_j)\n",
    "\n",
    "attention_scores"
   ]
  },
  {
   "cell_type": "code",
   "execution_count": 176,
   "metadata": {},
   "outputs": [
    {
     "data": {
      "text/plain": [
       "tensor([[0.4179, 0.4602, 0.1397, 0.5509, 0.2036, 0.3884],\n",
       "        [0.4602, 1.2304, 0.2611, 1.1189, 0.3408, 1.0023],\n",
       "        [0.1397, 0.2611, 0.0630, 0.2580, 0.0887, 0.2193],\n",
       "        [0.5509, 1.1189, 0.2580, 1.0992, 0.3343, 0.8977],\n",
       "        [0.2036, 0.3408, 0.0887, 0.3343, 0.1445, 0.3155],\n",
       "        [0.3884, 1.0023, 0.2193, 0.8977, 0.3155, 0.8600]])"
      ]
     },
     "execution_count": 176,
     "metadata": {},
     "output_type": "execute_result"
    }
   ],
   "source": [
    "inputs @ inputs.T"
   ]
  },
  {
   "cell_type": "code",
   "execution_count": 175,
   "metadata": {},
   "outputs": [
    {
     "data": {
      "text/plain": [
       "(tensor([[0.1748, 0.1824, 0.1324, 0.1997, 0.1411, 0.1697],\n",
       "         [0.1174, 0.2536, 0.0962, 0.2268, 0.1042, 0.2019],\n",
       "         [0.1609, 0.1817, 0.1490, 0.1811, 0.1529, 0.1743],\n",
       "         [0.1340, 0.2365, 0.1000, 0.2319, 0.1079, 0.1896],\n",
       "         [0.1603, 0.1838, 0.1429, 0.1827, 0.1511, 0.1793],\n",
       "         [0.1268, 0.2342, 0.1070, 0.2110, 0.1179, 0.2032]]),\n",
       " tensor([[0.2961, 0.5166, 0.2517],\n",
       "         [0.6886, 0.0740, 0.8665],\n",
       "         [0.1366, 0.1025, 0.1841],\n",
       "         [0.7264, 0.3153, 0.6871],\n",
       "         [0.0756, 0.1966, 0.3164],\n",
       "         [0.4017, 0.1186, 0.8274]]))"
      ]
     },
     "execution_count": 175,
     "metadata": {},
     "output_type": "execute_result"
    }
   ],
   "source": [
    "normalized_attention_scores = torch.softmax(attention_scores, dim=-1)\n",
    "normalized_attention_scores, inputs\n"
   ]
  },
  {
   "cell_type": "code",
   "execution_count": 177,
   "metadata": {},
   "outputs": [
    {
     "data": {
      "text/plain": [
       "tensor([[0.4193, 0.2282, 0.5486],\n",
       "        [0.4762, 0.2052, 0.6228],\n",
       "        [0.4063, 0.2197, 0.5424],\n",
       "        [0.4690, 0.2138, 0.6075],\n",
       "        [0.4097, 0.2196, 0.5476],\n",
       "        [0.4572, 0.2075, 0.6049]])"
      ]
     },
     "execution_count": 177,
     "metadata": {},
     "output_type": "execute_result"
    }
   ],
   "source": [
    "normalized_attention_scores @ inputs"
   ]
  },
  {
   "cell_type": "code",
   "execution_count": 180,
   "metadata": {},
   "outputs": [],
   "source": [
    "torch.manual_seed(1234)\n",
    "input_tensor = torch.rand(6,3)"
   ]
  },
  {
   "cell_type": "code",
   "execution_count": 182,
   "metadata": {},
   "outputs": [],
   "source": [
    "d_in = input_tensor.shape[1]\n",
    "d_out = 2"
   ]
  },
  {
   "cell_type": "code",
   "execution_count": 183,
   "metadata": {},
   "outputs": [],
   "source": [
    "w_query = torch.nn.Parameter(torch.rand(d_in, d_out), requires_grad=False)\n",
    "w_key = torch.nn.Parameter(torch.rand(d_in, d_out), requires_grad=False)\n",
    "w_value = torch.nn.Parameter(torch.rand(d_in, d_out), requires_grad=False)"
   ]
  },
  {
   "cell_type": "code",
   "execution_count": 184,
   "metadata": {},
   "outputs": [
    {
     "data": {
      "text/plain": [
       "(Parameter containing:\n",
       " tensor([[0.9665, 0.7399],\n",
       "         [0.4517, 0.4757],\n",
       "         [0.7842, 0.1525]]),\n",
       " Parameter containing:\n",
       " tensor([[0.2388, 0.7313],\n",
       "         [0.6012, 0.3043],\n",
       "         [0.2548, 0.6294]]),\n",
       " Parameter containing:\n",
       " tensor([[0.6662, 0.3343],\n",
       "         [0.7893, 0.3216],\n",
       "         [0.5247, 0.6688]]))"
      ]
     },
     "execution_count": 184,
     "metadata": {},
     "output_type": "execute_result"
    }
   ],
   "source": [
    "w_key, w_query, w_value"
   ]
  },
  {
   "cell_type": "code",
   "execution_count": 186,
   "metadata": {},
   "outputs": [
    {
     "data": {
      "text/plain": [
       "(tensor([0.4655, 0.6044]), tensor([0.7899, 0.3638]), tensor([0.7576, 0.6186]))"
      ]
     },
     "execution_count": 186,
     "metadata": {},
     "output_type": "execute_result"
    }
   ],
   "source": [
    "x_2 = input_tensor[2]\n",
    "query_2 = x_2 @ w_query\n",
    "key_2 = x_2 @ w_key\n",
    "value_2 = x_2 @ w_value\n",
    "\n",
    "query_2, key_2, value_2"
   ]
  },
  {
   "cell_type": "code",
   "execution_count": 188,
   "metadata": {},
   "outputs": [],
   "source": [
    "keys = input_tensor @ w_key\n",
    "queries = input_tensor @ w_query\n",
    "values = input_tensor @ w_value"
   ]
  },
  {
   "cell_type": "code",
   "execution_count": 189,
   "metadata": {},
   "outputs": [
    {
     "data": {
      "text/plain": [
       "(tensor([[0.4133, 0.2523],\n",
       "         [0.9301, 0.4059],\n",
       "         [0.7899, 0.3638],\n",
       "         [1.1159, 0.7040],\n",
       "         [1.3387, 1.0064],\n",
       "         [1.3020, 0.7395]]),\n",
       " tensor([[0.3147, 0.3070],\n",
       "         [0.3011, 0.7268],\n",
       "         [0.4655, 0.6044],\n",
       "         [0.6938, 0.8353],\n",
       "         [0.7496, 0.9922],\n",
       "         [0.5006, 0.9982]]),\n",
       " tensor([[0.4729, 0.3127],\n",
       "         [0.6579, 0.6099],\n",
       "         [0.7576, 0.6186],\n",
       "         [1.1349, 0.7395],\n",
       "         [1.3106, 0.7098],\n",
       "         [1.0227, 0.7584]]))"
      ]
     },
     "execution_count": 189,
     "metadata": {},
     "output_type": "execute_result"
    }
   ],
   "source": [
    "keys, queries, values"
   ]
  },
  {
   "cell_type": "code",
   "execution_count": 190,
   "metadata": {},
   "outputs": [
    {
     "data": {
      "text/plain": [
       "tensor([[0.2075, 0.4174, 0.3603, 0.5674, 0.7304, 0.6369],\n",
       "        [0.3078, 0.5750, 0.5022, 0.8476, 1.1345, 0.9295],\n",
       "        [0.3449, 0.6783, 0.5876, 0.9449, 1.2314, 1.0530],\n",
       "        [0.4975, 0.9843, 0.8519, 1.3622, 1.7694, 1.5210],\n",
       "        [0.5601, 1.1000, 0.9531, 1.5350, 2.0021, 1.7098],\n",
       "        [0.4587, 0.8708, 0.7586, 1.2613, 1.6748, 1.3900]])"
      ]
     },
     "execution_count": 190,
     "metadata": {},
     "output_type": "execute_result"
    }
   ],
   "source": [
    "attn_scores = queries @ keys.T\n",
    "attn_scores"
   ]
  },
  {
   "cell_type": "code",
   "execution_count": 194,
   "metadata": {},
   "outputs": [
    {
     "data": {
      "text/plain": [
       "(tensor([[0.1358, 0.1575, 0.1513, 0.1751, 0.1965, 0.1839],\n",
       "         [0.1224, 0.1479, 0.1405, 0.1794, 0.2197, 0.1901],\n",
       "         [0.1176, 0.1489, 0.1396, 0.1798, 0.2201, 0.1940],\n",
       "         [0.0994, 0.1403, 0.1277, 0.1832, 0.2444, 0.2050],\n",
       "         [0.0926, 0.1356, 0.1222, 0.1844, 0.2566, 0.2087],\n",
       "         [0.1038, 0.1389, 0.1283, 0.1831, 0.2453, 0.2006]]),\n",
       " tensor([[0.4729, 0.3127],\n",
       "         [0.6579, 0.6099],\n",
       "         [0.7576, 0.6186],\n",
       "         [1.1349, 0.7395],\n",
       "         [1.3106, 0.7098],\n",
       "         [1.0227, 0.7584]]))"
      ]
     },
     "execution_count": 194,
     "metadata": {},
     "output_type": "execute_result"
    }
   ],
   "source": [
    "d = keys.shape[-1]\n",
    "attn_weights = torch.softmax(attn_scores / d**0.5, dim=-1)\n",
    "attn_weights, values"
   ]
  },
  {
   "cell_type": "code",
   "execution_count": 193,
   "metadata": {},
   "outputs": [
    {
     "data": {
      "text/plain": [
       "tensor([1.0000, 1.0000, 1.0000, 1.0000, 1.0000, 1.0000])"
      ]
     },
     "execution_count": 193,
     "metadata": {},
     "output_type": "execute_result"
    }
   ],
   "source": [
    "attn_weights.sum(dim=-1)"
   ]
  },
  {
   "cell_type": "code",
   "execution_count": 196,
   "metadata": {},
   "outputs": [
    {
     "data": {
      "text/plain": [
       "tensor([[0.9267, 0.6405],\n",
       "        [0.9475, 0.6482],\n",
       "        [0.9503, 0.6503],\n",
       "        [0.9739, 0.6601],\n",
       "        [0.9845, 0.6640],\n",
       "        [0.9721, 0.6582]])"
      ]
     },
     "execution_count": 196,
     "metadata": {},
     "output_type": "execute_result"
    }
   ],
   "source": [
    "context_vector = attn_weights @ values\n",
    "context_vector"
   ]
  },
  {
   "cell_type": "code",
   "execution_count": 204,
   "metadata": {},
   "outputs": [],
   "source": [
    "class SelfAttention(torch.nn.Module):\n",
    "    def __init__(self, d_in, d_out):\n",
    "        super().__init__()\n",
    "\n",
    "        self.w_key = torch.nn.Linear(d_in, d_out, bias=False)\n",
    "        self.w_query = torch.nn.Linear(d_in, d_out, bias=False)\n",
    "        self.w_value = torch.nn.Linear(d_in, d_out, bias=False)\n",
    "\n",
    "    def forward(self, x):\n",
    "        keys = self.w_key(x)\n",
    "        queries = self.w_query(x)\n",
    "        values = self.w_value(x)\n",
    "\n",
    "        attn_scores = queries @ keys.T\n",
    "        attn_weights = torch.softmax(\n",
    "            attn_scores / keys.shape[-1]**0.5, dim=-1\n",
    "        )\n",
    "        context_vec = attn_weights @ values\n",
    "        return context_vec"
   ]
  },
  {
   "cell_type": "code",
   "execution_count": 205,
   "metadata": {},
   "outputs": [
    {
     "data": {
      "text/plain": [
       "tensor([[-0.5462,  0.0993],\n",
       "        [-0.5461,  0.0994],\n",
       "        [-0.5458,  0.0995],\n",
       "        [-0.5475,  0.0994],\n",
       "        [-0.5493,  0.0992],\n",
       "        [-0.5476,  0.0993]], grad_fn=<MmBackward0>)"
      ]
     },
     "execution_count": 205,
     "metadata": {},
     "output_type": "execute_result"
    }
   ],
   "source": [
    "sa_v1 = SelfAttention(d_in=3, d_out=2)\n",
    "context = sa_v1(input_tensor)\n",
    "context"
   ]
  },
  {
   "cell_type": "code",
   "execution_count": 207,
   "metadata": {},
   "outputs": [
    {
     "data": {
      "text/plain": [
       "tensor([[0.1660, 0.1706, 0.1630, 0.1622, 0.1673, 0.1709],\n",
       "        [0.1668, 0.1717, 0.1614, 0.1604, 0.1678, 0.1719],\n",
       "        [0.1680, 0.1722, 0.1602, 0.1590, 0.1684, 0.1722],\n",
       "        [0.1625, 0.1769, 0.1585, 0.1568, 0.1674, 0.1780],\n",
       "        [0.1558, 0.1803, 0.1587, 0.1568, 0.1655, 0.1828],\n",
       "        [0.1619, 0.1761, 0.1597, 0.1582, 0.1669, 0.1773]],\n",
       "       grad_fn=<SoftmaxBackward0>)"
      ]
     },
     "execution_count": 207,
     "metadata": {},
     "output_type": "execute_result"
    }
   ],
   "source": [
    "queries = sa_v1.w_query(input_tensor)\n",
    "keys = sa_v1.w_key(input_tensor)\n",
    "attn_scores = queries @ keys.T\n",
    "att_weights = torch.softmax(attn_scores / keys.shape[-1]**0.5, dim=-1)\n",
    "att_weights\n"
   ]
  },
  {
   "cell_type": "code",
   "execution_count": 208,
   "metadata": {},
   "outputs": [
    {
     "data": {
      "text/plain": [
       "tensor([[1., 0., 0., 0., 0., 0.],\n",
       "        [1., 1., 0., 0., 0., 0.],\n",
       "        [1., 1., 1., 0., 0., 0.],\n",
       "        [1., 1., 1., 1., 0., 0.],\n",
       "        [1., 1., 1., 1., 1., 0.],\n",
       "        [1., 1., 1., 1., 1., 1.]])"
      ]
     },
     "execution_count": 208,
     "metadata": {},
     "output_type": "execute_result"
    }
   ],
   "source": [
    "context_length = attn_scores.shape[0]\n",
    "mask = torch.tril(torch.ones(context_length, context_length))\n",
    "mask"
   ]
  },
  {
   "cell_type": "code",
   "execution_count": 209,
   "metadata": {},
   "outputs": [
    {
     "data": {
      "text/plain": [
       "tensor([[0.1660, 0.0000, 0.0000, 0.0000, 0.0000, 0.0000],\n",
       "        [0.1668, 0.1717, 0.0000, 0.0000, 0.0000, 0.0000],\n",
       "        [0.1680, 0.1722, 0.1602, 0.0000, 0.0000, 0.0000],\n",
       "        [0.1625, 0.1769, 0.1585, 0.1568, 0.0000, 0.0000],\n",
       "        [0.1558, 0.1803, 0.1587, 0.1568, 0.1655, 0.0000],\n",
       "        [0.1619, 0.1761, 0.1597, 0.1582, 0.1669, 0.1773]],\n",
       "       grad_fn=<MulBackward0>)"
      ]
     },
     "execution_count": 209,
     "metadata": {},
     "output_type": "execute_result"
    }
   ],
   "source": [
    "masked_attn = att_weights * mask\n",
    "masked_attn"
   ]
  },
  {
   "cell_type": "code",
   "execution_count": 211,
   "metadata": {},
   "outputs": [
    {
     "data": {
      "text/plain": [
       "tensor([[1.0000, 0.0000, 0.0000, 0.0000, 0.0000, 0.0000],\n",
       "        [0.6645, 0.3355, 0.0000, 0.0000, 0.0000, 0.0000],\n",
       "        [0.5498, 0.2764, 0.1739, 0.0000, 0.0000, 0.0000],\n",
       "        [0.4759, 0.2539, 0.1539, 0.1164, 0.0000, 0.0000],\n",
       "        [0.4209, 0.2388, 0.1422, 0.1074, 0.0908, 0.0000],\n",
       "        [0.4001, 0.2134, 0.1309, 0.0991, 0.0838, 0.0727]],\n",
       "       grad_fn=<DivBackward0>)"
      ]
     },
     "execution_count": 211,
     "metadata": {},
     "output_type": "execute_result"
    }
   ],
   "source": [
    "masked_attn = masked_attn / masked_attn.sum(dim=1, keepdim=True)\n",
    "masked_attn"
   ]
  },
  {
   "cell_type": "code",
   "execution_count": 212,
   "metadata": {},
   "outputs": [
    {
     "data": {
      "text/plain": [
       "tensor([[-0.0526,    -inf,    -inf,    -inf,    -inf,    -inf],\n",
       "        [-0.0802, -0.0390,    -inf,    -inf,    -inf,    -inf],\n",
       "        [-0.1045, -0.0693, -0.1718,    -inf,    -inf,    -inf],\n",
       "        [-0.1053,  0.0141, -0.1413, -0.1564,    -inf,    -inf],\n",
       "        [-0.0679,  0.1384, -0.0420, -0.0591,  0.0173,    -inf],\n",
       "        [-0.0833,  0.0357, -0.1025, -0.1158, -0.0396,  0.0454]],\n",
       "       grad_fn=<MaskedFillBackward0>)"
      ]
     },
     "execution_count": 212,
     "metadata": {},
     "output_type": "execute_result"
    }
   ],
   "source": [
    "inf_mask = torch.triu(torch.ones(context_length, context_length), diagonal=1)\n",
    "masked_attn = attn_scores.masked_fill(inf_mask.bool(), -torch.inf)\n",
    "masked_attn"
   ]
  },
  {
   "cell_type": "code",
   "execution_count": 214,
   "metadata": {},
   "outputs": [
    {
     "data": {
      "text/plain": [
       "tensor([[1.0000, 0.0000, 0.0000, 0.0000, 0.0000, 0.0000],\n",
       "        [0.4927, 0.5073, 0.0000, 0.0000, 0.0000, 0.0000],\n",
       "        [0.3357, 0.3442, 0.3201, 0.0000, 0.0000, 0.0000],\n",
       "        [0.2483, 0.2702, 0.2421, 0.2395, 0.0000, 0.0000],\n",
       "        [0.1907, 0.2207, 0.1942, 0.1919, 0.2025, 0.0000],\n",
       "        [0.1619, 0.1761, 0.1597, 0.1582, 0.1669, 0.1773]],\n",
       "       grad_fn=<SoftmaxBackward0>)"
      ]
     },
     "execution_count": 214,
     "metadata": {},
     "output_type": "execute_result"
    }
   ],
   "source": [
    "masked_attn_weights = torch.softmax(masked_attn / keys.shape[-1]**0.5, dim=-1)\n",
    "masked_attn_weights"
   ]
  },
  {
   "cell_type": "code",
   "execution_count": 215,
   "metadata": {},
   "outputs": [
    {
     "data": {
      "text/plain": [
       "tensor([[-0.2558,  0.0369],\n",
       "        [-0.3602,  0.0155],\n",
       "        [-0.3874,  0.0064],\n",
       "        [-0.4527,  0.0375],\n",
       "        [-0.5201,  0.0928],\n",
       "        [-0.5476,  0.0993]], grad_fn=<MmBackward0>)"
      ]
     },
     "execution_count": 215,
     "metadata": {},
     "output_type": "execute_result"
    }
   ],
   "source": [
    "masked_context = masked_attn_weights @ sa_v1.w_value(input_tensor)\n",
    "masked_context"
   ]
  },
  {
   "cell_type": "code",
   "execution_count": 216,
   "metadata": {},
   "outputs": [
    {
     "name": "stdout",
     "output_type": "stream",
     "text": [
      "tensor([[0.0000, 0.0000, 0.0000, 0.0000, 0.0000, 0.0000],\n",
      "        [0.9854, 1.0146, 0.0000, 0.0000, 0.0000, 0.0000],\n",
      "        [0.6714, 0.0000, 0.6402, 0.0000, 0.0000, 0.0000],\n",
      "        [0.4966, 0.5403, 0.0000, 0.0000, 0.0000, 0.0000],\n",
      "        [0.0000, 0.4413, 0.0000, 0.3838, 0.0000, 0.0000],\n",
      "        [0.0000, 0.0000, 0.3194, 0.0000, 0.3339, 0.3546]],\n",
      "       grad_fn=<MulBackward0>)\n"
     ]
    }
   ],
   "source": [
    "dropout = torch.nn.Dropout(0.5)\n",
    "print(dropout(masked_attn_weights))"
   ]
  },
  {
   "cell_type": "code",
   "execution_count": 221,
   "metadata": {},
   "outputs": [
    {
     "data": {
      "text/plain": [
       "tensor([[[0.0290, 0.4019, 0.2598],\n",
       "         [0.3666, 0.0583, 0.7006],\n",
       "         [0.0518, 0.4681, 0.6738],\n",
       "         [0.3315, 0.7837, 0.5631],\n",
       "         [0.7749, 0.8208, 0.2793],\n",
       "         [0.6817, 0.2837, 0.6567]],\n",
       "\n",
       "        [[0.0290, 0.4019, 0.2598],\n",
       "         [0.3666, 0.0583, 0.7006],\n",
       "         [0.0518, 0.4681, 0.6738],\n",
       "         [0.3315, 0.7837, 0.5631],\n",
       "         [0.7749, 0.8208, 0.2793],\n",
       "         [0.6817, 0.2837, 0.6567]]])"
      ]
     },
     "execution_count": 221,
     "metadata": {},
     "output_type": "execute_result"
    }
   ],
   "source": [
    "batch = torch.stack((input_tensor, input_tensor), dim=0)\n",
    "batch"
   ]
  },
  {
   "cell_type": "code",
   "execution_count": 227,
   "metadata": {},
   "outputs": [],
   "source": [
    "class CausalAttention(torch.nn.Module):\n",
    "    def __init__(self, d_in, d_out, context_length, dropout):\n",
    "        super().__init__()\n",
    "\n",
    "        self.d_out = d_out\n",
    "        self.w_key = torch.nn.Linear(d_in, d_out, bias=False)\n",
    "        self.w_query = torch.nn.Linear(d_in, d_out, bias=False)\n",
    "        self.w_value = torch.nn.Linear(d_in, d_out, bias=False)\n",
    "        self.dropout = torch.nn.Dropout(dropout)\n",
    "        self.register_buffer('mask', torch.triu(torch.ones(context_length, context_length), diagonal=1))\n",
    "\n",
    "    def forward(self, x):\n",
    "        b, num_tokens, d_in = x.shape\n",
    "        keys = self.w_key(x)\n",
    "        queries = self.w_query(x)\n",
    "        values = self.w_value(x)\n",
    "\n",
    "        attn_scores = queries @ keys.transpose(1,2)\n",
    "        attn_scores.masked_fill(self.mask.bool()[:num_tokens, : num_tokens], -torch.inf)\n",
    "        attn_weights = torch.softmax(attn_scores / keys.shape[-1]**0.5, dim=-1)\n",
    "\n",
    "        attn_weights = self.dropout(attn_weights)\n",
    "        context_vec = attn_weights @ values\n",
    "\n",
    "        return context_vec"
   ]
  },
  {
   "cell_type": "code",
   "execution_count": 228,
   "metadata": {},
   "outputs": [
    {
     "name": "stdout",
     "output_type": "stream",
     "text": [
      "tensor([[[-0.1902,  0.2477],\n",
      "         [-0.1907,  0.2481],\n",
      "         [-0.1911,  0.2480],\n",
      "         [-0.1926,  0.2484],\n",
      "         [-0.1935,  0.2486],\n",
      "         [-0.1921,  0.2484]],\n",
      "\n",
      "        [[-0.1902,  0.2477],\n",
      "         [-0.1907,  0.2481],\n",
      "         [-0.1911,  0.2480],\n",
      "         [-0.1926,  0.2484],\n",
      "         [-0.1935,  0.2486],\n",
      "         [-0.1921,  0.2484]]], grad_fn=<UnsafeViewBackward0>)\n"
     ]
    }
   ],
   "source": [
    "context_length = batch.shape[1]\n",
    "ca = CausalAttention(d_in=3, d_out=2, context_length=context_length, dropout=0.0)\n",
    "print(ca(batch))"
   ]
  },
  {
   "cell_type": "code",
   "execution_count": 230,
   "metadata": {},
   "outputs": [],
   "source": [
    "class MultiheadAttentionWrapperClass(torch.nn.Module):\n",
    "    def __init__(self, d_in, d_out, context_length, dropout, num_heads):\n",
    "        super().__init__()\n",
    "\n",
    "        self.heads = torch.nn.ModuleList(\n",
    "            [CausalAttention(d_in=d_in, d_out=d_out, context_length=context_length, dropout=dropout) for _ in range(num_heads)]\n",
    "        )\n",
    "    \n",
    "    def forward(self, x):\n",
    "        return torch.cat([head(x) for head in self.heads], dim=-1)"
   ]
  },
  {
   "cell_type": "code",
   "execution_count": 233,
   "metadata": {},
   "outputs": [
    {
     "data": {
      "text/plain": [
       "tensor([[[-0.2859, -0.4828, -0.1554,  0.0602],\n",
       "         [-0.2838, -0.4901, -0.1543,  0.0604],\n",
       "         [-0.2849, -0.4830, -0.1555,  0.0597],\n",
       "         [-0.2853, -0.4833, -0.1548,  0.0608],\n",
       "         [-0.2855, -0.4877, -0.1534,  0.0624],\n",
       "         [-0.2838, -0.4917, -0.1535,  0.0614]],\n",
       "\n",
       "        [[-0.2859, -0.4828, -0.1554,  0.0602],\n",
       "         [-0.2838, -0.4901, -0.1543,  0.0604],\n",
       "         [-0.2849, -0.4830, -0.1555,  0.0597],\n",
       "         [-0.2853, -0.4833, -0.1548,  0.0608],\n",
       "         [-0.2855, -0.4877, -0.1534,  0.0624],\n",
       "         [-0.2838, -0.4917, -0.1535,  0.0614]]], grad_fn=<CatBackward0>)"
      ]
     },
     "execution_count": 233,
     "metadata": {},
     "output_type": "execute_result"
    }
   ],
   "source": [
    "d_in, d_out = 3, 2\n",
    "context_length = batch.shape[1]\n",
    "mha = MultiheadAttentionWrapperClass(d_in=d_in, d_out=d_out, context_length=context_length, dropout=0.0, num_heads=2)\n",
    "context_vector = mha(batch)\n",
    "context_vector"
   ]
  },
  {
   "cell_type": "code",
   "execution_count": 242,
   "metadata": {},
   "outputs": [],
   "source": [
    "class MultiheadAttention(torch.nn.Module):\n",
    "    def __init__(self, d_in, d_out, context_length, num_heads, dropout):\n",
    "        super().__init__()\n",
    "        assert(d_out % num_heads == 0), \"d_out must be divisible by num of heads\"\n",
    "\n",
    "        self.d_out = d_out\n",
    "        self.num_heads = num_heads\n",
    "        self.head_dim = d_out // num_heads\n",
    "\n",
    "        self.w_key = torch.nn.Linear(d_in, d_out, bias=False)\n",
    "        self.w_query = torch.nn.Linear(d_in, d_out, bias=False)\n",
    "        self.w_value = torch.nn.Linear(d_in, d_out, bias=False)\n",
    "        self.dropout = torch.nn.Dropout(dropout)\n",
    "        self.out_proj = torch.nn.Linear(d_out, d_out)\n",
    "        self.register_buffer('mask', torch.triu(torch.ones(context_length, context_length), diagonal=1))\n",
    "\n",
    "    def forward(self, x):\n",
    "        batch, num_tokens, d_in = x.shape\n",
    "\n",
    "        keys = self.w_key(x)\n",
    "        queries = self.w_query(x)\n",
    "        values = self.w_value(x)\n",
    "\n",
    "        keys = keys.view(batch, num_tokens, self.num_heads, self.head_dim)\n",
    "        queries = queries.view(batch, num_tokens, self.num_heads, self.head_dim)\n",
    "        values = values.view(batch, num_tokens, self.num_heads, self.head_dim)\n",
    "\n",
    "        keys = keys.transpose(1,2)\n",
    "        queries = queries.transpose(1,2)\n",
    "        values = values.transpose(1,2)\n",
    "\n",
    "        attn_scores = queries @ keys.transpose(2,3)\n",
    "\n",
    "        mask_bool = self.mask.bool()[:num_tokens, :num_tokens]\n",
    "        attn_scores.masked_fill(mask_bool, -torch.inf)\n",
    "\n",
    "        attn_weights = torch.softmax(attn_scores / keys.shape[-1]**0.5, dim=-1)\n",
    "        attn_weights = self.dropout(attn_weights)\n",
    "\n",
    "        context_vec = (attn_weights @ values).transpose(1,2)\n",
    "        context_vec = context_vec.contiguous().view(batch, num_tokens, self.d_out)\n",
    "        context_vec = self.out_proj(context_vec)\n",
    "\n",
    "        return context_vec"
   ]
  },
  {
   "cell_type": "code",
   "execution_count": 243,
   "metadata": {},
   "outputs": [
    {
     "data": {
      "text/plain": [
       "tensor([[[-0.1424,  0.0194, -0.0849,  0.1745,  0.3831, -0.1559],\n",
       "         [-0.1414,  0.0179, -0.0844,  0.1728,  0.3809, -0.1563],\n",
       "         [-0.1418,  0.0198, -0.0855,  0.1735,  0.3826, -0.1560]],\n",
       "\n",
       "        [[-0.1424,  0.0194, -0.0849,  0.1745,  0.3831, -0.1559],\n",
       "         [-0.1414,  0.0179, -0.0844,  0.1728,  0.3809, -0.1563],\n",
       "         [-0.1418,  0.0198, -0.0855,  0.1735,  0.3826, -0.1560]]],\n",
       "       grad_fn=<ViewBackward0>)"
      ]
     },
     "execution_count": 243,
     "metadata": {},
     "output_type": "execute_result"
    }
   ],
   "source": [
    "inputs = torch.rand(3,6)\n",
    "\n",
    "batch = torch.stack((inputs, inputs), dim=0)\n",
    "b, context_length, d_in = batch.shape\n",
    "d_out = 6\n",
    "\n",
    "mha = MultiheadAttention(d_in=d_in, d_out=d_out, context_length=context_length, dropout=0.0, num_heads=2)\n",
    "cv = mha(batch)\n",
    "cv"
   ]
  },
  {
   "cell_type": "code",
   "execution_count": 244,
   "metadata": {},
   "outputs": [],
   "source": [
    "GPT_CONFIG_124M = {\n",
    "    \"vocab_size\": 50257,\n",
    "    \"context_length\": 1024,\n",
    "    \"emb_dim\": 768,\n",
    "    \"n_heads\": 12,\n",
    "    \"n_layers\": 12,\n",
    "    \"drop_rate\": 0.1,\n",
    "    \"qkv_bias\": False\n",
    "}"
   ]
  },
  {
   "cell_type": "code",
   "execution_count": 245,
   "metadata": {},
   "outputs": [
    {
     "data": {
      "text/plain": [
       "tensor([[2.7108e-03, 1.0574e+00, 0.0000e+00, 0.0000e+00, 3.1077e-01, 0.0000e+00],\n",
       "        [4.8673e-01, 1.7322e-02, 6.9024e-04, 2.9743e-01, 5.6711e-01, 4.0454e-01]],\n",
       "       grad_fn=<ReluBackward0>)"
      ]
     },
     "execution_count": 245,
     "metadata": {},
     "output_type": "execute_result"
    }
   ],
   "source": [
    "sample = torch.randn(2,5)\n",
    "layer = torch.nn.Sequential(torch.nn.Linear(5,6), torch.nn.ReLU())\n",
    "out = layer(sample)\n",
    "out"
   ]
  },
  {
   "cell_type": "code",
   "execution_count": 246,
   "metadata": {},
   "outputs": [
    {
     "data": {
      "text/plain": [
       "(tensor([[0.2285],\n",
       "         [0.2956]], grad_fn=<MeanBackward1>),\n",
       " tensor([[0.1803],\n",
       "         [0.0573]], grad_fn=<VarBackward0>))"
      ]
     },
     "execution_count": 246,
     "metadata": {},
     "output_type": "execute_result"
    }
   ],
   "source": [
    "mean = out.mean(dim=-1, keepdim=True)\n",
    "var = out.var(dim=-1, keepdim=True)\n",
    "mean, var"
   ]
  },
  {
   "cell_type": "code",
   "execution_count": 247,
   "metadata": {},
   "outputs": [
    {
     "data": {
      "text/plain": [
       "tensor([[-0.5317,  1.9522, -0.5381, -0.5381,  0.1938, -0.5381],\n",
       "        [ 0.7983, -1.1626, -1.2321,  0.0075,  1.1340,  0.4549]],\n",
       "       grad_fn=<DivBackward0>)"
      ]
     },
     "execution_count": 247,
     "metadata": {},
     "output_type": "execute_result"
    }
   ],
   "source": [
    "out_norm = (out - mean) / torch.sqrt(var)\n",
    "out_norm"
   ]
  },
  {
   "cell_type": "code",
   "execution_count": 250,
   "metadata": {},
   "outputs": [
    {
     "data": {
      "text/plain": [
       "tensor([[1.0000],\n",
       "        [1.0000]], grad_fn=<VarBackward0>)"
      ]
     },
     "execution_count": 250,
     "metadata": {},
     "output_type": "execute_result"
    }
   ],
   "source": [
    "out_norm.mean(dim=-1, keepdim=True)\n",
    "out_norm.var(dim=-1, keepdim=True)"
   ]
  },
  {
   "cell_type": "code",
   "execution_count": 251,
   "metadata": {},
   "outputs": [],
   "source": [
    "class LayerNorm(torch.nn.Module):\n",
    "    def __init__(self, emb_dim):\n",
    "        super().__init__()\n",
    "\n",
    "        self.eps = 1e-5\n",
    "        self.scale = torch.nn.Parameter(torch.ones(emb_dim))\n",
    "        self.shift = torch.nn.Parameter(torch.zeros(emb_dim))\n",
    "\n",
    "    def forward(self, x):\n",
    "        x_mean = x.mean(dim=-1, keepdim=True)\n",
    "        x_var = x.var(dim=-1, keepdim=True, unbiased=False)\n",
    "        x_norm = (x - x_mean) / torch.sqrt(x_var + self.eps)\n",
    "        return self.scale * x_norm + self.shift"
   ]
  },
  {
   "cell_type": "code",
   "execution_count": 252,
   "metadata": {},
   "outputs": [],
   "source": [
    "class GeLU(torch.nn.Module):\n",
    "    def __init__(self):\n",
    "        super().__init__()\n",
    "\n",
    "    def forward(self, x):\n",
    "        return 0.5 * x * (1 + torch.tanh(torch.sqrt(torch.tensor(2.0 / torch.pi)) * (x + 0.044715 * torch.pow(x, 3))))"
   ]
  },
  {
   "cell_type": "code",
   "execution_count": 253,
   "metadata": {},
   "outputs": [],
   "source": [
    "class FeedForward(torch.nn.Module):\n",
    "    def __init__(self, cfg):\n",
    "        super().__init__()\n",
    "        self.layers = torch.nn.Sequential(\n",
    "            torch.nn.Linear(cfg[\"emb_dim\"], 4 * cfg[\"emb_dim\"]),\n",
    "            GeLU(),\n",
    "             torch.nn.Linear(4 * cfg[\"emb_dim\"], cfg[\"emb_dim\"]),\n",
    "        )\n",
    "\n",
    "    def forward(self, x):\n",
    "        return self.layers(x)"
   ]
  },
  {
   "cell_type": "code",
   "execution_count": 258,
   "metadata": {},
   "outputs": [],
   "source": [
    "class ExampleDeepNeuralNetwork(torch.nn.Module):\n",
    "    def __init__(self, layer_sizes, use_shortcut):\n",
    "        super().__init__()\n",
    "        self.use_shortcut = use_shortcut\n",
    "        self.layers = torch.nn.ModuleList([\n",
    "            torch.nn.Sequential(torch.nn.Linear(layer_sizes[0], layer_sizes[1]), GeLU()),\n",
    "            torch.nn.Sequential(torch.nn.Linear(layer_sizes[1], layer_sizes[2]), GeLU()),\n",
    "            torch.nn.Sequential(torch.nn.Linear(layer_sizes[2], layer_sizes[3]), GeLU()),\n",
    "            torch.nn.Sequential(torch.nn.Linear(layer_sizes[3], layer_sizes[4]), GeLU()),\n",
    "            torch.nn.Sequential(torch.nn.Linear(layer_sizes[4], layer_sizes[5]), GeLU()),\n",
    "        ])\n",
    "\n",
    "    def forward(self, x):\n",
    "        for layer in self.layers:\n",
    "            out = layer(x)\n",
    "\n",
    "            if self.use_shortcut and x.shape == out.shape:\n",
    "                x = out + x\n",
    "            else:\n",
    "                x = out\n",
    "\n",
    "        return x"
   ]
  },
  {
   "cell_type": "code",
   "execution_count": 265,
   "metadata": {},
   "outputs": [],
   "source": [
    "layer_sizes= [3,3,3,3,3,1]\n",
    "sample = torch.tensor([[1., 0., -1.]])\n",
    "without_shortcut = ExampleDeepNeuralNetwork(layer_sizes, False)"
   ]
  },
  {
   "cell_type": "code",
   "execution_count": 266,
   "metadata": {},
   "outputs": [],
   "source": [
    "def print_gradients(model,x):\n",
    "    output = model(x)\n",
    "    target = torch.tensor([[0.]])\n",
    "\n",
    "    loss = torch.nn.MSELoss()\n",
    "    loss = loss(output, target)\n",
    "\n",
    "    loss.backward()\n",
    "\n",
    "    for name, param in model.named_parameters():\n",
    "        if 'weight' in name:\n",
    "            print(f'{name} has gradient mean of {param.grad.abs().mean().item()}')"
   ]
  },
  {
   "cell_type": "code",
   "execution_count": 267,
   "metadata": {},
   "outputs": [
    {
     "name": "stdout",
     "output_type": "stream",
     "text": [
      "layers.0.0.weight has gradient mean of 8.446240826742724e-06\n",
      "layers.1.0.weight has gradient mean of 1.477338719269028e-05\n",
      "layers.2.0.weight has gradient mean of 8.532095307600684e-06\n",
      "layers.3.0.weight has gradient mean of 6.618356565013528e-05\n",
      "layers.4.0.weight has gradient mean of 0.00249104923568666\n"
     ]
    }
   ],
   "source": [
    "print_gradients(without_shortcut, sample)"
   ]
  },
  {
   "cell_type": "code",
   "execution_count": 268,
   "metadata": {},
   "outputs": [
    {
     "name": "stdout",
     "output_type": "stream",
     "text": [
      "layers.0.0.weight has gradient mean of 1.6892481653485447e-05\n",
      "layers.1.0.weight has gradient mean of 2.954677438538056e-05\n",
      "layers.2.0.weight has gradient mean of 1.706419061520137e-05\n",
      "layers.3.0.weight has gradient mean of 0.00013236713130027056\n",
      "layers.4.0.weight has gradient mean of 0.00498209847137332\n"
     ]
    }
   ],
   "source": [
    "with_shortcut = ExampleDeepNeuralNetwork(layer_sizes, True)\n",
    "print_gradients(without_shortcut, sample)"
   ]
  },
  {
   "cell_type": "code",
   "execution_count": null,
   "metadata": {},
   "outputs": [],
   "source": []
  }
 ],
 "metadata": {
  "kernelspec": {
   "display_name": "Python 3",
   "language": "python",
   "name": "python3"
  },
  "language_info": {
   "codemirror_mode": {
    "name": "ipython",
    "version": 3
   },
   "file_extension": ".py",
   "mimetype": "text/x-python",
   "name": "python",
   "nbconvert_exporter": "python",
   "pygments_lexer": "ipython3",
   "version": "3.11.9"
  }
 },
 "nbformat": 4,
 "nbformat_minor": 2
}
