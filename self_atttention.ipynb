{
  "nbformat": 4,
  "nbformat_minor": 0,
  "metadata": {
    "colab": {
      "provenance": [],
      "authorship_tag": "ABX9TyOu+OVLjP0/bTu9zETnS1S2"
    },
    "kernelspec": {
      "name": "python3",
      "display_name": "Python 3"
    },
    "language_info": {
      "name": "python"
    }
  },
  "cells": [
    {
      "cell_type": "code",
      "execution_count": 19,
      "metadata": {
        "id": "c-FRg1Ms_6WJ"
      },
      "outputs": [],
      "source": [
        "import torch\n",
        "import torch.nn as nn\n",
        "import torch.nn.functional as F\n",
        "\n",
        "\n",
        "class Attention(nn.Module):\n",
        "  def __init__(self, d_in, d_out):\n",
        "    super().__init__()\n",
        "    self.d_in = d_in\n",
        "    self.d_out = d_out\n",
        "    self.Q = nn.Linear(d_in, d_out)\n",
        "    self.K = nn.Linear(d_in, d_out)\n",
        "    self.V = nn.Linear(d_in, d_out)\n",
        "\n",
        "  def forward(self, x):\n",
        "    queries = self.Q(x)\n",
        "    keys = self.K(x)\n",
        "    values = self.V(x)\n",
        "    scores = torch.bmm(queries, keys.transpose(1,2))\n",
        "    scores = scores/ (self.d_out ** 0.5)\n",
        "    attention = F.softmax(scores, dim=2)\n",
        "    hidden_states = torch.bmm(attention, values)\n",
        "    return hidden_states"
      ]
    },
    {
      "cell_type": "code",
      "source": [
        "SOS_token = 0\n",
        "EOS_token = 1\n",
        "\n",
        "index2words = {\n",
        "    SOS_token: \"SOS\",\n",
        "   EOS_token: \"EOS\"\n",
        "}\n",
        "words = \"How are you doing ? I am doing good and you ?\"\n",
        "words_list = set(words.lower().split(' '))\n",
        "for word in words_list:\n",
        "  index2words[len(index2words)] = word\n",
        "index2words"
      ],
      "metadata": {
        "colab": {
          "base_uri": "https://localhost:8080/"
        },
        "id": "6qdjgyTiA703",
        "outputId": "bea405c1-7798-4d54-b529-59a3127251cd"
      },
      "execution_count": 7,
      "outputs": [
        {
          "output_type": "execute_result",
          "data": {
            "text/plain": [
              "{0: 'SOS',\n",
              " 1: 'EOS',\n",
              " 2: 'how',\n",
              " 3: 'doing',\n",
              " 4: 'i',\n",
              " 5: 'are',\n",
              " 6: 'am',\n",
              " 7: 'and',\n",
              " 8: 'you',\n",
              " 9: 'good',\n",
              " 10: '?'}"
            ]
          },
          "metadata": {},
          "execution_count": 7
        }
      ]
    },
    {
      "cell_type": "code",
      "source": [
        "words2index = {w: i for i, w in index2words.items()}\n",
        "words2index"
      ],
      "metadata": {
        "colab": {
          "base_uri": "https://localhost:8080/"
        },
        "id": "D3uW5oDLEXfR",
        "outputId": "76f02f3c-0349-4a52-94bb-336299922a20"
      },
      "execution_count": 8,
      "outputs": [
        {
          "output_type": "execute_result",
          "data": {
            "text/plain": [
              "{'SOS': 0,\n",
              " 'EOS': 1,\n",
              " 'how': 2,\n",
              " 'doing': 3,\n",
              " 'i': 4,\n",
              " 'are': 5,\n",
              " 'am': 6,\n",
              " 'and': 7,\n",
              " 'you': 8,\n",
              " 'good': 9,\n",
              " '?': 10}"
            ]
          },
          "metadata": {},
          "execution_count": 8
        }
      ]
    },
    {
      "cell_type": "code",
      "source": [
        "def convert2tensors(sentence):\n",
        "  words_list = sentence.lower().split(' ')\n",
        "  indexes = [words2index[word] for word in words_list]\n",
        "\n",
        "  return torch.tensor(indexes, dtype=torch.long).view(1, -1)\n",
        "\n",
        "indexes = convert2tensors(\"How are you doing ?\")\n",
        "indexes.size()"
      ],
      "metadata": {
        "colab": {
          "base_uri": "https://localhost:8080/"
        },
        "id": "2LvsjLfeF1qC",
        "outputId": "73bc48be-f7cc-4353-e998-83ff32910ed4"
      },
      "execution_count": 12,
      "outputs": [
        {
          "output_type": "execute_result",
          "data": {
            "text/plain": [
              "torch.Size([1, 5])"
            ]
          },
          "metadata": {},
          "execution_count": 12
        }
      ]
    },
    {
      "cell_type": "code",
      "source": [
        "HIDDEN_SIZE = 10\n",
        "VOCAB_SIZE = len(words2index)\n",
        "\n",
        "embedding = nn.Embedding(VOCAB_SIZE, HIDDEN_SIZE)\n",
        "attention = Attention(HIDDEN_SIZE, HIDDEN_SIZE)\n",
        "\n",
        "input_tensor = convert2tensors(\"How are you doing ?\")\n",
        "print(input_tensor)\n",
        "embedded = embedding(input_tensor)\n",
        "print(embedded)\n",
        "embedded.size()"
      ],
      "metadata": {
        "colab": {
          "base_uri": "https://localhost:8080/"
        },
        "id": "XYtRLNcTGusf",
        "outputId": "e2a99259-02bb-4b05-8b50-d004f5a24842"
      },
      "execution_count": 21,
      "outputs": [
        {
          "output_type": "stream",
          "name": "stdout",
          "text": [
            "tensor([[ 2,  5,  8,  3, 10]])\n",
            "tensor([[[ 9.3225e-01, -5.8053e-01,  5.6782e-04, -6.3848e-01, -5.2476e-01,\n",
            "          -1.8279e-01, -1.3435e+00,  6.7209e-01,  1.5825e-01, -1.4818e-01],\n",
            "         [ 3.7587e-01, -3.8707e-01,  1.3779e+00,  1.0981e+00, -1.0002e+00,\n",
            "           2.8556e-01, -1.2906e+00, -1.3199e-01, -6.7352e-01,  1.1170e+00],\n",
            "         [-2.4820e-01,  2.3479e-01,  6.3158e-01,  3.1945e-01,  2.3544e-01,\n",
            "          -1.0188e+00, -1.8333e-01, -4.1408e-01,  4.5394e-01, -1.6592e+00],\n",
            "         [ 3.9137e-01, -6.5312e-01,  1.2836e+00,  9.6799e-01,  1.0509e+00,\n",
            "           9.0970e-01,  2.1353e-01,  1.3721e+00,  1.8131e-01, -4.4169e-01],\n",
            "         [-1.1123e-01,  5.2791e-01, -7.1280e-01,  1.1345e+00,  4.1034e-01,\n",
            "           2.1899e+00, -1.0925e+00,  7.4364e-01, -9.7716e-01, -1.3324e+00]]],\n",
            "       grad_fn=<EmbeddingBackward0>)\n"
          ]
        },
        {
          "output_type": "execute_result",
          "data": {
            "text/plain": [
              "torch.Size([1, 5, 10])"
            ]
          },
          "metadata": {},
          "execution_count": 21
        }
      ]
    },
    {
      "cell_type": "code",
      "source": [
        "hidden_states = attention(embedded)\n"
      ],
      "metadata": {
        "id": "DGTgmKR-H3LM"
      },
      "execution_count": 22,
      "outputs": []
    },
    {
      "cell_type": "code",
      "source": [
        "hidden_states"
      ],
      "metadata": {
        "colab": {
          "base_uri": "https://localhost:8080/"
        },
        "id": "J5qxcrwqJE_U",
        "outputId": "d9e4a9e8-4bca-4936-c568-5fdfd68b0fd6"
      },
      "execution_count": 23,
      "outputs": [
        {
          "output_type": "execute_result",
          "data": {
            "text/plain": [
              "tensor([[[-0.2396,  0.3525,  0.2216,  0.1476,  0.0265, -0.3573, -0.4059,\n",
              "          -0.0616, -0.0868, -0.1471],\n",
              "         [-0.2114,  0.3979,  0.2715,  0.2000,  0.0288, -0.3918, -0.4333,\n",
              "          -0.0440, -0.1701, -0.2479],\n",
              "         [-0.2412,  0.3568,  0.2305,  0.1614,  0.0313, -0.3693, -0.4202,\n",
              "          -0.0552, -0.1124, -0.1677],\n",
              "         [-0.2070,  0.4210,  0.2743,  0.2330,  0.0286, -0.4104, -0.4461,\n",
              "          -0.0282, -0.1941, -0.2775],\n",
              "         [-0.2062,  0.4410,  0.3058,  0.2665,  0.0399, -0.4149, -0.4192,\n",
              "           0.0038, -0.2088, -0.2959]]], grad_fn=<BmmBackward0>)"
            ]
          },
          "metadata": {},
          "execution_count": 23
        }
      ]
    },
    {
      "cell_type": "code",
      "source": [],
      "metadata": {
        "id": "GAc0q4R-JRV-"
      },
      "execution_count": null,
      "outputs": []
    }
  ]
}