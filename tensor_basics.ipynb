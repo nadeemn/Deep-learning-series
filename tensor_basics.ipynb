{
  "nbformat": 4,
  "nbformat_minor": 0,
  "metadata": {
    "colab": {
      "provenance": [],
      "authorship_tag": "ABX9TyMixYh7QB/POfBiCuLPiSUI"
    },
    "kernelspec": {
      "name": "python3",
      "display_name": "Python 3"
    },
    "language_info": {
      "name": "python"
    }
  },
  "cells": [
    {
      "cell_type": "code",
      "execution_count": null,
      "metadata": {
        "id": "r7P_FsoNaS_d"
      },
      "outputs": [],
      "source": [
        "import tensorflow as tf"
      ]
    },
    {
      "cell_type": "code",
      "source": [
        "tensor_zero_d = tf.constant(4)\n",
        "print(tensor_zero_d)"
      ],
      "metadata": {
        "colab": {
          "base_uri": "https://localhost:8080/"
        },
        "id": "Ja2nob0_bTMQ",
        "outputId": "35f9a23c-1a38-4a4f-bce7-fb81f1d0b3e9"
      },
      "execution_count": null,
      "outputs": [
        {
          "output_type": "stream",
          "name": "stdout",
          "text": [
            "tf.Tensor(4, shape=(), dtype=int32)\n"
          ]
        }
      ]
    },
    {
      "cell_type": "code",
      "source": [
        "tensor_one_d = tf.constant([2, 0 ,-3])\n",
        "print(tensor_one_d)"
      ],
      "metadata": {
        "colab": {
          "base_uri": "https://localhost:8080/"
        },
        "id": "c6QJj3vPbY3i",
        "outputId": "8a6da66d-8820-4b56-9268-cbaf2d402c38"
      },
      "execution_count": null,
      "outputs": [
        {
          "output_type": "stream",
          "name": "stdout",
          "text": [
            "tf.Tensor([ 2  0 -3], shape=(3,), dtype=int32)\n"
          ]
        }
      ]
    },
    {
      "cell_type": "code",
      "source": [
        "tensor_tow_d = tf.constant([\n",
        "    [1,2,3],\n",
        "    [4,5,6],\n",
        "    [7,8,9]\n",
        "])\n",
        "\n",
        "print(tensor_tow_d)"
      ],
      "metadata": {
        "colab": {
          "base_uri": "https://localhost:8080/"
        },
        "id": "PE6NXyCYbhrl",
        "outputId": "3597d017-e4ba-4ac9-93e1-1e5845b88da0"
      },
      "execution_count": null,
      "outputs": [
        {
          "output_type": "stream",
          "name": "stdout",
          "text": [
            "tf.Tensor(\n",
            "[[1 2 3]\n",
            " [4 5 6]\n",
            " [7 8 9]], shape=(3, 3), dtype=int32)\n"
          ]
        }
      ]
    },
    {
      "cell_type": "code",
      "source": [
        "tensor_three_d = tf.constant([\n",
        "    [[1,2,3], [4,5,6]],\n",
        "    [[7,8,9], [10,11,12]]\n",
        "])\n",
        "\n",
        "print(tensor_three_d)"
      ],
      "metadata": {
        "colab": {
          "base_uri": "https://localhost:8080/"
        },
        "id": "ps58XfG4b1BZ",
        "outputId": "c424385b-c848-41bc-9ad8-4efddf83d015"
      },
      "execution_count": null,
      "outputs": [
        {
          "output_type": "stream",
          "name": "stdout",
          "text": [
            "tf.Tensor(\n",
            "[[[ 1  2  3]\n",
            "  [ 4  5  6]]\n",
            "\n",
            " [[ 7  8  9]\n",
            "  [10 11 12]]], shape=(2, 2, 3), dtype=int32)\n"
          ]
        }
      ]
    },
    {
      "cell_type": "code",
      "source": [
        "tensor_four_d = tf.constant([\n",
        "    [[[1,2,3],\n",
        "      [4,5,6]],\n",
        "\n",
        "     [[7,8,9],\n",
        "      [10,11,12]]],\n",
        "\n",
        "\n",
        "    [[[13,14,15],\n",
        "      [16,17,18]],\n",
        "\n",
        "     [[19,20,21],\n",
        "      [22,23,24]]],\n",
        "])\n",
        "\n",
        "print(tensor_four_d)"
      ],
      "metadata": {
        "colab": {
          "base_uri": "https://localhost:8080/"
        },
        "id": "CY_ahBMAcIa4",
        "outputId": "bfec16fe-83e7-4c9f-8034-4ab38d1e5f2a"
      },
      "execution_count": null,
      "outputs": [
        {
          "output_type": "stream",
          "name": "stdout",
          "text": [
            "tf.Tensor(\n",
            "[[[[ 1  2  3]\n",
            "   [ 4  5  6]]\n",
            "\n",
            "  [[ 7  8  9]\n",
            "   [10 11 12]]]\n",
            "\n",
            "\n",
            " [[[13 14 15]\n",
            "   [16 17 18]]\n",
            "\n",
            "  [[19 20 21]\n",
            "   [22 23 24]]]], shape=(2, 2, 2, 3), dtype=int32)\n"
          ]
        }
      ]
    },
    {
      "cell_type": "code",
      "source": [
        "import numpy as np"
      ],
      "metadata": {
        "id": "8-agGg-qc25O"
      },
      "execution_count": null,
      "outputs": []
    },
    {
      "cell_type": "code",
      "source": [
        "np_array = np.array([1,2,3,4])\n",
        "print(np_array)"
      ],
      "metadata": {
        "colab": {
          "base_uri": "https://localhost:8080/"
        },
        "id": "di92p8qHfaFS",
        "outputId": "0c051fab-4002-4951-f1e3-ef7e59e206b4"
      },
      "execution_count": null,
      "outputs": [
        {
          "output_type": "stream",
          "name": "stdout",
          "text": [
            "[1 2 3 4]\n"
          ]
        }
      ]
    },
    {
      "cell_type": "code",
      "source": [
        "convert_to_tensor = tf.convert_to_tensor(np_array)\n",
        "print(convert_to_tensor)"
      ],
      "metadata": {
        "colab": {
          "base_uri": "https://localhost:8080/"
        },
        "id": "YgDoz_c4fcKy",
        "outputId": "8dd199e1-2755-4655-8103-5cdf235e02b0"
      },
      "execution_count": null,
      "outputs": [
        {
          "output_type": "stream",
          "name": "stdout",
          "text": [
            "tf.Tensor([1 2 3 4], shape=(4,), dtype=int64)\n"
          ]
        }
      ]
    },
    {
      "cell_type": "code",
      "source": [
        "eye_tensor = tf.eye(num_rows=5, num_columns=3, batch_shape=[2,3], dtype=tf.float32)\n",
        "print(eye_tensor)"
      ],
      "metadata": {
        "colab": {
          "base_uri": "https://localhost:8080/"
        },
        "id": "V1ObmH3GffV1",
        "outputId": "52878756-9425-4516-e71a-4699e0157f5e"
      },
      "execution_count": null,
      "outputs": [
        {
          "output_type": "stream",
          "name": "stdout",
          "text": [
            "tf.Tensor(\n",
            "[[[[1. 0. 0.]\n",
            "   [0. 1. 0.]\n",
            "   [0. 0. 1.]\n",
            "   [0. 0. 0.]\n",
            "   [0. 0. 0.]]\n",
            "\n",
            "  [[1. 0. 0.]\n",
            "   [0. 1. 0.]\n",
            "   [0. 0. 1.]\n",
            "   [0. 0. 0.]\n",
            "   [0. 0. 0.]]\n",
            "\n",
            "  [[1. 0. 0.]\n",
            "   [0. 1. 0.]\n",
            "   [0. 0. 1.]\n",
            "   [0. 0. 0.]\n",
            "   [0. 0. 0.]]]\n",
            "\n",
            "\n",
            " [[[1. 0. 0.]\n",
            "   [0. 1. 0.]\n",
            "   [0. 0. 1.]\n",
            "   [0. 0. 0.]\n",
            "   [0. 0. 0.]]\n",
            "\n",
            "  [[1. 0. 0.]\n",
            "   [0. 1. 0.]\n",
            "   [0. 0. 1.]\n",
            "   [0. 0. 0.]\n",
            "   [0. 0. 0.]]\n",
            "\n",
            "  [[1. 0. 0.]\n",
            "   [0. 1. 0.]\n",
            "   [0. 0. 1.]\n",
            "   [0. 0. 0.]\n",
            "   [0. 0. 0.]]]], shape=(2, 3, 5, 3), dtype=float32)\n"
          ]
        }
      ]
    },
    {
      "cell_type": "code",
      "source": [
        "fill_tensor = tf.fill(\n",
        "    [2, 3,3,4], 6, name=None\n",
        ")\n",
        "print(fill_tensor)"
      ],
      "metadata": {
        "colab": {
          "base_uri": "https://localhost:8080/"
        },
        "id": "MLKPtDHcfzaq",
        "outputId": "408308d3-6a35-4cde-84a2-143d7b499f65"
      },
      "execution_count": null,
      "outputs": [
        {
          "output_type": "stream",
          "name": "stdout",
          "text": [
            "tf.Tensor(\n",
            "[[[[6 6 6 6]\n",
            "   [6 6 6 6]\n",
            "   [6 6 6 6]]\n",
            "\n",
            "  [[6 6 6 6]\n",
            "   [6 6 6 6]\n",
            "   [6 6 6 6]]\n",
            "\n",
            "  [[6 6 6 6]\n",
            "   [6 6 6 6]\n",
            "   [6 6 6 6]]]\n",
            "\n",
            "\n",
            " [[[6 6 6 6]\n",
            "   [6 6 6 6]\n",
            "   [6 6 6 6]]\n",
            "\n",
            "  [[6 6 6 6]\n",
            "   [6 6 6 6]\n",
            "   [6 6 6 6]]\n",
            "\n",
            "  [[6 6 6 6]\n",
            "   [6 6 6 6]\n",
            "   [6 6 6 6]]]], shape=(2, 3, 3, 4), dtype=int32)\n"
          ]
        }
      ]
    },
    {
      "cell_type": "code",
      "source": [
        "ones_tensor = tf.ones([2,3,4], dtype=tf.float32)\n",
        "print(ones_tensor)"
      ],
      "metadata": {
        "colab": {
          "base_uri": "https://localhost:8080/"
        },
        "id": "LlTUUatbg786",
        "outputId": "3e3d0547-6a1a-46b8-c4fd-8d216e9e521c"
      },
      "execution_count": null,
      "outputs": [
        {
          "output_type": "stream",
          "name": "stdout",
          "text": [
            "tf.Tensor(\n",
            "[[[1. 1. 1. 1.]\n",
            "  [1. 1. 1. 1.]\n",
            "  [1. 1. 1. 1.]]\n",
            "\n",
            " [[1. 1. 1. 1.]\n",
            "  [1. 1. 1. 1.]\n",
            "  [1. 1. 1. 1.]]], shape=(2, 3, 4), dtype=float32)\n"
          ]
        }
      ]
    },
    {
      "cell_type": "code",
      "source": [
        "ones_like_tensor = tf.ones_like(fill_tensor)\n",
        "print(ones_like_tensor)"
      ],
      "metadata": {
        "colab": {
          "base_uri": "https://localhost:8080/"
        },
        "id": "osF4s6QghM_d",
        "outputId": "d0e84c8d-7edb-4543-9d5e-17398f9ead42"
      },
      "execution_count": null,
      "outputs": [
        {
          "output_type": "stream",
          "name": "stdout",
          "text": [
            "tf.Tensor(\n",
            "[[[[1 1 1 1]\n",
            "   [1 1 1 1]\n",
            "   [1 1 1 1]]\n",
            "\n",
            "  [[1 1 1 1]\n",
            "   [1 1 1 1]\n",
            "   [1 1 1 1]]\n",
            "\n",
            "  [[1 1 1 1]\n",
            "   [1 1 1 1]\n",
            "   [1 1 1 1]]]\n",
            "\n",
            "\n",
            " [[[1 1 1 1]\n",
            "   [1 1 1 1]\n",
            "   [1 1 1 1]]\n",
            "\n",
            "  [[1 1 1 1]\n",
            "   [1 1 1 1]\n",
            "   [1 1 1 1]]\n",
            "\n",
            "  [[1 1 1 1]\n",
            "   [1 1 1 1]\n",
            "   [1 1 1 1]]]], shape=(2, 3, 3, 4), dtype=int32)\n"
          ]
        }
      ]
    },
    {
      "cell_type": "code",
      "source": [
        "random_tensor = tf.random.normal(\n",
        "    [3,3,3],\n",
        "    mean=0.0,\n",
        "    stddev=1.0,\n",
        "    dtype=tf.float32,\n",
        "    seed=None,\n",
        "    name=None\n",
        ")\n",
        "print(random_tensor)"
      ],
      "metadata": {
        "colab": {
          "base_uri": "https://localhost:8080/"
        },
        "id": "XJH-XkBpEmKs",
        "outputId": "ec6858e0-aea4-4d31-e07c-e0c50448a019"
      },
      "execution_count": null,
      "outputs": [
        {
          "output_type": "stream",
          "name": "stdout",
          "text": [
            "tf.Tensor(\n",
            "[[[ 0.24371177 -0.8263582   1.5700436 ]\n",
            "  [ 1.0016142   0.8229646  -0.58784395]\n",
            "  [-1.2464437   0.7350537   0.11816662]]\n",
            "\n",
            " [[ 0.8111171  -2.368228   -0.9936989 ]\n",
            "  [-0.9004409   0.31636778  0.5310337 ]\n",
            "  [ 1.765938   -1.228089    0.8036311 ]]\n",
            "\n",
            " [[ 0.05034524 -0.03419123  0.44891137]\n",
            "  [-0.3062004   1.4231464   0.12296418]\n",
            "  [-0.9527665  -1.1701031  -1.2492363 ]]], shape=(3, 3, 3), dtype=float32)\n"
          ]
        }
      ]
    },
    {
      "cell_type": "code",
      "source": [
        "uniform_tensor = tf.random.uniform(\n",
        "    [3,3],\n",
        "    minval=0,\n",
        "    maxval=100,\n",
        "    dtype=tf.float32,\n",
        "    seed=None,\n",
        "    name=None\n",
        ")\n",
        "print(uniform_tensor)\n"
      ],
      "metadata": {
        "id": "cSFURnuiGQLo",
        "colab": {
          "base_uri": "https://localhost:8080/"
        },
        "outputId": "e4ccdbae-8eb4-4581-f45b-b3db34864330"
      },
      "execution_count": 23,
      "outputs": [
        {
          "output_type": "stream",
          "name": "stdout",
          "text": [
            "tf.Tensor(\n",
            "[[87.41963  33.238636 42.087173]\n",
            " [82.0144   21.518051 27.006102]\n",
            " [77.751564 18.765736 24.921083]], shape=(3, 3), dtype=float32)\n"
          ]
        }
      ]
    },
    {
      "cell_type": "code",
      "source": [
        "tensor_indexed = tf.constant([1,2,3,4,5,6,7])\n",
        "print(tensor_indexed[-1])"
      ],
      "metadata": {
        "id": "DPrbY11XJeRU",
        "colab": {
          "base_uri": "https://localhost:8080/"
        },
        "outputId": "e6e57122-7a49-4bb0-d08a-78159580938b"
      },
      "execution_count": 27,
      "outputs": [
        {
          "output_type": "stream",
          "name": "stdout",
          "text": [
            "tf.Tensor(7, shape=(), dtype=int32)\n"
          ]
        }
      ]
    },
    {
      "cell_type": "code",
      "source": [
        "print(tensor_indexed[0:])\n",
        "print(tensor_indexed[:7:2])"
      ],
      "metadata": {
        "colab": {
          "base_uri": "https://localhost:8080/"
        },
        "id": "6lsNny3uK6Ez",
        "outputId": "78288068-fe58-416a-9788-d2a526414396"
      },
      "execution_count": 38,
      "outputs": [
        {
          "output_type": "stream",
          "name": "stdout",
          "text": [
            "tf.Tensor([1 2 3 4 5 6 7], shape=(7,), dtype=int32)\n",
            "tf.Tensor([1 3 5 7], shape=(4,), dtype=int32)\n"
          ]
        }
      ]
    },
    {
      "cell_type": "code",
      "source": [
        "tensor_indexed_two_d = tf.constant([\n",
        "    [1,2,3],\n",
        "    [4,5,6],\n",
        "    [7,8,9]\n",
        "])\n",
        "\n",
        "print(tensor_indexed_two_d)\n"
      ],
      "metadata": {
        "colab": {
          "base_uri": "https://localhost:8080/"
        },
        "id": "6hx1D7mvLOGS",
        "outputId": "d44e419b-e863-41de-8622-02bbd06ee5be"
      },
      "execution_count": 40,
      "outputs": [
        {
          "output_type": "stream",
          "name": "stdout",
          "text": [
            "tf.Tensor(\n",
            "[[1 2 3]\n",
            " [4 5 6]\n",
            " [7 8 9]], shape=(3, 3), dtype=int32)\n"
          ]
        }
      ]
    },
    {
      "cell_type": "code",
      "source": [
        "print(tensor_indexed_two_d[0,2])"
      ],
      "metadata": {
        "colab": {
          "base_uri": "https://localhost:8080/"
        },
        "id": "XA4f4FL2NYP2",
        "outputId": "d86342d2-9214-40c5-bc5d-02f4453d1648"
      },
      "execution_count": 41,
      "outputs": [
        {
          "output_type": "stream",
          "name": "stdout",
          "text": [
            "tf.Tensor(3, shape=(), dtype=int32)\n"
          ]
        }
      ]
    },
    {
      "cell_type": "code",
      "source": [
        "print(tensor_indexed_two_d[:-1,1:])"
      ],
      "metadata": {
        "colab": {
          "base_uri": "https://localhost:8080/"
        },
        "id": "qDuQR1pBNsLv",
        "outputId": "cfee5dbd-4dc2-413e-91ed-6cf16704100b"
      },
      "execution_count": 53,
      "outputs": [
        {
          "output_type": "stream",
          "name": "stdout",
          "text": [
            "tf.Tensor(\n",
            "[[2 3]\n",
            " [5 6]], shape=(2, 2), dtype=int32)\n"
          ]
        }
      ]
    },
    {
      "cell_type": "code",
      "source": [
        "print(tf.abs(x=tf.constant(-4.0)))"
      ],
      "metadata": {
        "colab": {
          "base_uri": "https://localhost:8080/"
        },
        "id": "wySMj_ShOJMM",
        "outputId": "52e824e3-324b-46ca-dcd7-ea3e60898f42"
      },
      "execution_count": 55,
      "outputs": [
        {
          "output_type": "stream",
          "name": "stdout",
          "text": [
            "tf.Tensor(4.0, shape=(), dtype=float32)\n"
          ]
        }
      ]
    },
    {
      "cell_type": "code",
      "source": [
        "a = tf.constant([1,2,3,4])\n",
        "b = tf.constant([5,6,7,8])\n",
        "\n",
        "tf.einsum('i,i ->', a,b)\n",
        "tf.einsum('i,i -> i', a, b)"
      ],
      "metadata": {
        "colab": {
          "base_uri": "https://localhost:8080/"
        },
        "id": "9_7_4YZARQWJ",
        "outputId": "560679fa-716b-457c-97d4-6eaf3a60404a"
      },
      "execution_count": 62,
      "outputs": [
        {
          "output_type": "execute_result",
          "data": {
            "text/plain": [
              "<tf.Tensor: shape=(4,), dtype=int32, numpy=array([ 5, 12, 21, 32], dtype=int32)>"
            ]
          },
          "metadata": {},
          "execution_count": 62
        }
      ]
    },
    {
      "cell_type": "code",
      "source": [
        "c = tf.einsum('i,j -> ij', a, b)\n",
        "print(c)"
      ],
      "metadata": {
        "colab": {
          "base_uri": "https://localhost:8080/"
        },
        "id": "03W8P07mdeqh",
        "outputId": "586273d7-0fae-4dc0-f513-3d34e06b8b1f"
      },
      "execution_count": 64,
      "outputs": [
        {
          "output_type": "stream",
          "name": "stdout",
          "text": [
            "tf.Tensor(\n",
            "[[ 5  6  7  8]\n",
            " [10 12 14 16]\n",
            " [15 18 21 24]\n",
            " [20 24 28 32]], shape=(4, 4), dtype=int32)\n"
          ]
        }
      ]
    },
    {
      "cell_type": "code",
      "source": [
        "tf.einsum('ij -> ji', c)"
      ],
      "metadata": {
        "colab": {
          "base_uri": "https://localhost:8080/"
        },
        "id": "86Er8DnH78TP",
        "outputId": "e90b8051-5a35-4358-9a1e-e7f6665e486d"
      },
      "execution_count": 61,
      "outputs": [
        {
          "output_type": "execute_result",
          "data": {
            "text/plain": [
              "<tf.Tensor: shape=(4, 4), dtype=int32, numpy=\n",
              "array([[ 5, 10, 15, 20],\n",
              "       [ 6, 12, 18, 24],\n",
              "       [ 7, 14, 21, 28],\n",
              "       [ 8, 16, 24, 32]], dtype=int32)>"
            ]
          },
          "metadata": {},
          "execution_count": 61
        }
      ]
    },
    {
      "cell_type": "code",
      "source": [
        " tf.expand_dims(c, axis=-1)"
      ],
      "metadata": {
        "colab": {
          "base_uri": "https://localhost:8080/"
        },
        "id": "qGDmFJKN8v6C",
        "outputId": "773073c5-7cb0-42a3-cc0f-6fb3de75a30b"
      },
      "execution_count": 66,
      "outputs": [
        {
          "output_type": "execute_result",
          "data": {
            "text/plain": [
              "<tf.Tensor: shape=(4, 4, 1), dtype=int32, numpy=\n",
              "array([[[ 5],\n",
              "        [ 6],\n",
              "        [ 7],\n",
              "        [ 8]],\n",
              "\n",
              "       [[10],\n",
              "        [12],\n",
              "        [14],\n",
              "        [16]],\n",
              "\n",
              "       [[15],\n",
              "        [18],\n",
              "        [21],\n",
              "        [24]],\n",
              "\n",
              "       [[20],\n",
              "        [24],\n",
              "        [28],\n",
              "        [32]]], dtype=int32)>"
            ]
          },
          "metadata": {},
          "execution_count": 66
        }
      ]
    },
    {
      "cell_type": "code",
      "source": [],
      "metadata": {
        "id": "43XQZ6ECAxeH"
      },
      "execution_count": null,
      "outputs": []
    }
  ]
}